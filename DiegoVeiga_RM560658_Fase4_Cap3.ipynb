{
  "cells": [
    {
      "cell_type": "markdown",
      "metadata": {
        "id": "LpchLTg4BmkU"
      },
      "source": [
        "//=========================================================================\n",
        "\n",
        "# ATIVIDADE FIAP - Cap 3 - Implementando algoritmos de Machine Learning com Scikit-learn\n",
        "//=========================================================================\n",
        "\n",
        "// Autor.....: Diego Nunes Veiga\n",
        "\n",
        "// RM........: 560658\n",
        "\n",
        "// Turma.....: Graduação - 1TIAOR\n",
        "\n",
        "// Data......: 11/11/2024\n",
        "\n",
        "//=========================================================================="
      ]
    },
    {
      "cell_type": "code",
      "execution_count": 158,
      "metadata": {
        "id": "N86uKFDyHbpT"
      },
      "outputs": [],
      "source": [
        "# Importação das bibliotecas\n",
        "import warnings\n",
        "warnings.filterwarnings('ignore')\n",
        "import pandas as pd\n",
        "import seaborn as sns\n",
        "import numpy as np\n",
        "import matplotlib.pyplot as plt\n",
        "from sklearn.preprocessing import LabelEncoder, OneHotEncoder, MinMaxScaler, StandardScaler\n",
        "from sklearn.model_selection import train_test_split\n",
        "from sklearn.neighbors import KNeighborsClassifier\n",
        "from sklearn.linear_model import LogisticRegression\n",
        "from sklearn.svm import SVC\n",
        "from sklearn.tree import DecisionTreeClassifier\n",
        "from sklearn.ensemble import RandomForestClassifier\n",
        "from sklearn.metrics import accuracy_score, classification_report\n",
        "from sklearn.metrics import mean_squared_error, mean_absolute_error, mean_absolute_percentage_error, r2_score"
      ]
    },
    {
      "cell_type": "markdown",
      "source": [
        "# TRATAMENTO E CONVERSÃO DO ARQUIVO TXT PARA CSV"
      ],
      "metadata": {
        "id": "MW30K8TDmzPj"
      }
    },
    {
      "cell_type": "code",
      "source": [
        "# Leitura dos arquivo\n",
        "arq = open('seeds_dataset.txt', 'r')\n",
        "\n",
        "# Apresentação dos dados\n",
        "print(arq.read())\n",
        "\n",
        "# fechamento do arquivo\n",
        "arq.close()"
      ],
      "metadata": {
        "colab": {
          "base_uri": "https://localhost:8080/"
        },
        "id": "BWH5sOkthNkc",
        "outputId": "3528cc7f-3877-48bf-df7f-4436ab803332"
      },
      "execution_count": 159,
      "outputs": [
        {
          "output_type": "stream",
          "name": "stdout",
          "text": [
            "15.26\t14.84\t0.871\t5.763\t3.312\t2.221\t5.22\t1\n",
            "14.88\t14.57\t0.8811\t5.554\t3.333\t1.018\t4.956\t1\n",
            "14.29\t14.09\t0.905\t5.291\t3.337\t2.699\t4.825\t1\n",
            "13.84\t13.94\t0.8955\t5.324\t3.379\t2.259\t4.805\t1\n",
            "16.14\t14.99\t0.9034\t5.658\t3.562\t1.355\t5.175\t1\n",
            "14.38\t14.21\t0.8951\t5.386\t3.312\t2.462\t4.956\t1\n",
            "14.69\t14.49\t0.8799\t5.563\t3.259\t3.586\t5.219\t1\n",
            "14.11\t14.1\t0.8911\t5.42\t3.302\t2.7\t\t5\t\t1\n",
            "16.63\t15.46\t0.8747\t6.053\t3.465\t2.04\t5.877\t1\n",
            "16.44\t15.25\t0.888\t5.884\t3.505\t1.969\t5.533\t1\n",
            "15.26\t14.85\t0.8696\t5.714\t3.242\t4.543\t5.314\t1\n",
            "14.03\t14.16\t0.8796\t5.438\t3.201\t1.717\t5.001\t1\n",
            "13.89\t14.02\t0.888\t5.439\t3.199\t3.986\t4.738\t1\n",
            "13.78\t14.06\t0.8759\t5.479\t3.156\t3.136\t4.872\t1\n",
            "13.74\t14.05\t0.8744\t5.482\t3.114\t2.932\t4.825\t1\n",
            "14.59\t14.28\t0.8993\t5.351\t3.333\t4.185\t4.781\t1\n",
            "13.99\t13.83\t0.9183\t5.119\t3.383\t5.234\t4.781\t1\n",
            "15.69\t14.75\t0.9058\t5.527\t3.514\t1.599\t5.046\t1\n",
            "14.7\t14.21\t0.9153\t5.205\t3.466\t1.767\t4.649\t1\n",
            "12.72\t13.57\t0.8686\t5.226\t3.049\t4.102\t4.914\t1\n",
            "14.16\t14.4\t0.8584\t5.658\t3.129\t3.072\t5.176\t1\n",
            "14.11\t14.26\t0.8722\t5.52\t3.168\t2.688\t5.219\t1\n",
            "15.88\t14.9\t0.8988\t5.618\t3.507\t0.7651\t5.091\t1\n",
            "12.08\t13.23\t0.8664\t5.099\t2.936\t1.415\t4.961\t1\n",
            "15.01\t14.76\t0.8657\t5.789\t3.245\t1.791\t5.001\t1\n",
            "16.19\t15.16\t0.8849\t5.833\t3.421\t0.903\t5.307\t1\n",
            "13.02\t13.76\t0.8641\t5.395\t3.026\t3.373\t4.825\t1\n",
            "12.74\t13.67\t0.8564\t5.395\t2.956\t2.504\t4.869\t1\n",
            "14.11\t14.18\t0.882\t5.541\t3.221\t2.754\t5.038\t1\n",
            "13.45\t14.02\t0.8604\t5.516\t3.065\t3.531\t5.097\t1\n",
            "13.16\t13.82\t0.8662\t5.454\t2.975\t0.8551\t5.056\t1\n",
            "15.49\t14.94\t0.8724\t5.757\t3.371\t3.412\t5.228\t1\n",
            "14.09\t14.41\t0.8529\t5.717\t3.186\t3.92\t5.299\t1\n",
            "13.94\t14.17\t0.8728\t5.585\t3.15\t2.124\t5.012\t1\n",
            "15.05\t14.68\t0.8779\t5.712\t3.328\t2.129\t5.36\t1\n",
            "16.12\t15\t\t0.9\t\t5.709\t3.485\t2.27\t5.443\t1\n",
            "16.2\t15.27\t0.8734\t5.826\t3.464\t2.823\t5.527\t1\n",
            "17.08\t15.38\t0.9079\t5.832\t3.683\t2.956\t5.484\t1\n",
            "14.8\t14.52\t0.8823\t5.656\t3.288\t3.112\t5.309\t1\n",
            "14.28\t14.17\t0.8944\t5.397\t3.298\t6.685\t5.001\t1\n",
            "13.54\t13.85\t0.8871\t5.348\t3.156\t2.587\t5.178\t1\n",
            "13.5\t13.85\t0.8852\t5.351\t3.158\t2.249\t5.176\t1\n",
            "13.16\t13.55\t0.9009\t5.138\t3.201\t2.461\t4.783\t1\n",
            "15.5\t14.86\t0.882\t5.877\t3.396\t4.711\t5.528\t1\n",
            "15.11\t14.54\t0.8986\t5.579\t3.462\t3.128\t5.18\t1\n",
            "13.8\t14.04\t0.8794\t5.376\t3.155\t1.56\t4.961\t1\n",
            "15.36\t14.76\t0.8861\t5.701\t3.393\t1.367\t5.132\t1\n",
            "14.99\t14.56\t0.8883\t5.57\t3.377\t2.958\t5.175\t1\n",
            "14.79\t14.52\t0.8819\t5.545\t3.291\t2.704\t5.111\t1\n",
            "14.86\t14.67\t0.8676\t5.678\t3.258\t2.129\t5.351\t1\n",
            "14.43\t14.4\t0.8751\t5.585\t3.272\t3.975\t5.144\t1\n",
            "15.78\t14.91\t0.8923\t5.674\t3.434\t5.593\t5.136\t1\n",
            "14.49\t14.61\t0.8538\t5.715\t3.113\t4.116\t5.396\t1\n",
            "14.33\t14.28\t0.8831\t5.504\t3.199\t3.328\t5.224\t1\n",
            "14.52\t14.6\t0.8557\t5.741\t3.113\t1.481\t5.487\t1\n",
            "15.03\t14.77\t0.8658\t5.702\t3.212\t1.933\t5.439\t1\n",
            "14.46\t14.35\t0.8818\t5.388\t3.377\t2.802\t5.044\t1\n",
            "14.92\t14.43\t0.9006\t5.384\t3.412\t1.142\t5.088\t1\n",
            "15.38\t14.77\t0.8857\t5.662\t3.419\t1.999\t5.222\t1\n",
            "12.11\t13.47\t0.8392\t5.159\t3.032\t1.502\t4.519\t1\n",
            "11.42\t12.86\t0.8683\t5.008\t2.85\t2.7\t\t4.607\t1\n",
            "11.23\t12.63\t0.884\t4.902\t2.879\t2.269\t4.703\t1\n",
            "12.36\t13.19\t0.8923\t5.076\t3.042\t3.22\t4.605\t1\n",
            "13.22\t13.84\t0.868\t5.395\t3.07\t4.157\t5.088\t1\n",
            "12.78\t13.57\t0.8716\t5.262\t3.026\t1.176\t4.782\t1\n",
            "12.88\t13.5\t0.8879\t5.139\t3.119\t2.352\t4.607\t1\n",
            "14.34\t14.37\t0.8726\t5.63\t3.19\t1.313\t5.15\t1\n",
            "14.01\t14.29\t0.8625\t5.609\t3.158\t2.217\t5.132\t1\n",
            "14.37\t14.39\t0.8726\t5.569\t3.153\t1.464\t5.3\t\t1\n",
            "12.73\t13.75\t0.8458\t5.412\t2.882\t3.533\t5.067\t1\n",
            "17.63\t15.98\t0.8673\t6.191\t3.561\t4.076\t6.06\t2\n",
            "16.84\t15.67\t0.8623\t5.998\t3.484\t4.675\t5.877\t2\n",
            "17.26\t15.73\t0.8763\t5.978\t3.594\t4.539\t5.791\t2\n",
            "19.11\t16.26\t0.9081\t6.154\t3.93\t2.936\t6.079\t2\n",
            "16.82\t15.51\t0.8786\t6.017\t3.486\t4.004\t5.841\t2\n",
            "16.77\t15.62\t0.8638\t5.927\t3.438\t4.92\t5.795\t2\n",
            "17.32\t15.91\t0.8599\t6.064\t3.403\t3.824\t5.922\t2\n",
            "20.71\t17.23\t0.8763\t6.579\t3.814\t4.451\t6.451\t2\n",
            "18.94\t16.49\t0.875\t6.445\t3.639\t5.064\t6.362\t2\n",
            "17.12\t15.55\t0.8892\t5.85\t3.566\t2.858\t5.746\t2\n",
            "16.53\t15.34\t0.8823\t5.875\t3.467\t5.532\t5.88\t2\n",
            "18.72\t16.19\t0.8977\t6.006\t3.857\t5.324\t5.879\t2\n",
            "20.2\t16.89\t0.8894\t6.285\t3.864\t5.173\t6.187\t2\n",
            "19.57\t16.74\t0.8779\t6.384\t3.772\t1.472\t6.273\t2\n",
            "19.51\t16.71\t0.878\t6.366\t3.801\t2.962\t6.185\t2\n",
            "18.27\t16.09\t0.887\t6.173\t3.651\t2.443\t6.197\t2\n",
            "18.88\t16.26\t0.8969\t6.084\t3.764\t1.649\t6.109\t2\n",
            "18.98\t16.66\t0.859\t6.549\t3.67\t3.691\t6.498\t2\n",
            "21.18\t17.21\t0.8989\t6.573\t4.033\t5.78\t6.231\t2\n",
            "20.88\t17.05\t0.9031\t6.45\t4.032\t5.016\t6.321\t2\n",
            "20.1\t16.99\t0.8746\t6.581\t3.785\t1.955\t6.449\t2\n",
            "18.76\t16.2\t0.8984\t6.172\t3.796\t3.12\t6.053\t2\n",
            "18.81\t16.29\t0.8906\t6.272\t3.693\t3.237\t6.053\t2\n",
            "18.59\t16.05\t0.9066\t6.037\t3.86\t6.001\t5.877\t2\n",
            "18.36\t16.52\t0.8452\t6.666\t3.485\t4.933\t6.448\t2\n",
            "16.87\t15.65\t0.8648\t6.139\t3.463\t3.696\t5.967\t2\n",
            "19.31\t16.59\t0.8815\t6.341\t3.81\t3.477\t6.238\t2\n",
            "18.98\t16.57\t0.8687\t6.449\t3.552\t2.144\t6.453\t2\n",
            "18.17\t16.26\t0.8637\t6.271\t3.512\t2.853\t6.273\t2\n",
            "18.72\t16.34\t0.881\t6.219\t3.684\t2.188\t6.097\t2\n",
            "16.41\t15.25\t0.8866\t5.718\t3.525\t4.217\t5.618\t2\n",
            "17.99\t15.86\t0.8992\t5.89\t3.694\t2.068\t5.837\t2\n",
            "19.46\t16.5\t0.8985\t6.113\t3.892\t4.308\t6.009\t2\n",
            "19.18\t16.63\t0.8717\t6.369\t3.681\t3.357\t6.229\t2\n",
            "18.95\t16.42\t0.8829\t6.248\t3.755\t3.368\t6.148\t2\n",
            "18.83\t16.29\t0.8917\t6.037\t3.786\t2.553\t5.879\t2\n",
            "18.85\t16.17\t0.9056\t6.152\t3.806\t2.843\t6.2\t\t2\n",
            "17.63\t15.86\t0.88\t6.033\t3.573\t3.747\t5.929\t2\n",
            "19.94\t16.92\t0.8752\t6.675\t3.763\t3.252\t6.55\t2\n",
            "18.55\t16.22\t0.8865\t6.153\t3.674\t1.738\t5.894\t2\n",
            "18.45\t16.12\t0.8921\t6.107\t3.769\t2.235\t5.794\t2\n",
            "19.38\t16.72\t0.8716\t6.303\t3.791\t3.678\t5.965\t2\n",
            "19.13\t16.31\t0.9035\t6.183\t3.902\t2.109\t5.924\t2\n",
            "19.14\t16.61\t0.8722\t6.259\t3.737\t6.682\t6.053\t2\n",
            "20.97\t17.25\t0.8859\t6.563\t3.991\t4.677\t6.316\t2\n",
            "19.06\t16.45\t0.8854\t6.416\t3.719\t2.248\t6.163\t2\n",
            "18.96\t16.2\t0.9077\t6.051\t3.897\t4.334\t5.75\t2\n",
            "19.15\t16.45\t0.889\t6.245\t3.815\t3.084\t6.185\t2\n",
            "18.89\t16.23\t0.9008\t6.227\t3.769\t3.639\t5.966\t2\n",
            "20.03\t16.9\t0.8811\t6.493\t3.857\t3.063\t6.32\t2\n",
            "20.24\t16.91\t0.8897\t6.315\t3.962\t5.901\t6.188\t2\n",
            "18.14\t16.12\t0.8772\t6.059\t3.563\t3.619\t6.011\t2\n",
            "16.17\t15.38\t0.8588\t5.762\t3.387\t4.286\t5.703\t2\n",
            "18.43\t15.97\t0.9077\t5.98\t3.771\t2.984\t5.905\t2\n",
            "15.99\t14.89\t0.9064\t5.363\t3.582\t3.336\t5.144\t2\n",
            "18.75\t16.18\t0.8999\t6.111\t3.869\t4.188\t5.992\t2\n",
            "18.65\t16.41\t0.8698\t6.285\t3.594\t4.391\t6.102\t2\n",
            "17.98\t15.85\t0.8993\t5.979\t3.687\t2.257\t5.919\t2\n",
            "20.16\t17.03\t0.8735\t6.513\t3.773\t1.91\t6.185\t2\n",
            "17.55\t15.66\t0.8991\t5.791\t3.69\t5.366\t5.661\t2\n",
            "18.3\t15.89\t0.9108\t5.979\t3.755\t2.837\t5.962\t2\n",
            "18.94\t16.32\t0.8942\t6.144\t3.825\t2.908\t5.949\t2\n",
            "15.38\t14.9\t0.8706\t5.884\t3.268\t4.462\t5.795\t2\n",
            "16.16\t15.33\t0.8644\t5.845\t3.395\t4.266\t5.795\t2\n",
            "15.56\t14.89\t0.8823\t5.776\t3.408\t4.972\t5.847\t2\n",
            "15.38\t14.66\t0.899\t5.477\t3.465\t3.6\t\t5.439\t2\n",
            "17.36\t15.76\t0.8785\t6.145\t3.574\t3.526\t5.971\t2\n",
            "15.57\t15.15\t0.8527\t5.92\t3.231\t2.64\t5.879\t2\n",
            "15.6\t15.11\t0.858\t5.832\t3.286\t2.725\t5.752\t2\n",
            "16.23\t15.18\t0.885\t5.872\t3.472\t3.769\t5.922\t2\n",
            "13.07\t13.92\t0.848\t5.472\t2.994\t5.304\t5.395\t3\n",
            "13.32\t13.94\t0.8613\t5.541\t3.073\t7.035\t5.44\t3\n",
            "13.34\t13.95\t0.862\t5.389\t3.074\t5.995\t5.307\t3\n",
            "12.22\t13.32\t0.8652\t5.224\t2.967\t5.469\t5.221\t3\n",
            "11.82\t13.4\t0.8274\t5.314\t2.777\t4.471\t5.178\t3\n",
            "11.21\t13.13\t0.8167\t5.279\t2.687\t6.169\t5.275\t3\n",
            "11.43\t13.13\t0.8335\t5.176\t2.719\t2.221\t5.132\t3\n",
            "12.49\t13.46\t0.8658\t5.267\t2.967\t4.421\t5.002\t3\n",
            "12.7\t13.71\t0.8491\t5.386\t2.911\t3.26\t5.316\t3\n",
            "10.79\t12.93\t0.8107\t5.317\t2.648\t5.462\t5.194\t3\n",
            "11.83\t13.23\t0.8496\t5.263\t2.84\t5.195\t5.307\t3\n",
            "12.01\t13.52\t0.8249\t5.405\t2.776\t6.992\t5.27\t3\n",
            "12.26\t13.6\t0.8333\t5.408\t2.833\t4.756\t5.36\t3\n",
            "11.18\t13.04\t0.8266\t5.22\t2.693\t3.332\t5.001\t3\n",
            "11.36\t13.05\t0.8382\t5.175\t2.755\t4.048\t5.263\t3\n",
            "11.19\t13.05\t0.8253\t5.25\t2.675\t5.813\t5.219\t3\n",
            "11.34\t12.87\t0.8596\t5.053\t2.849\t3.347\t5.003\t3\n",
            "12.13\t13.73\t0.8081\t5.394\t2.745\t4.825\t5.22\t3\n",
            "11.75\t13.52\t0.8082\t5.444\t2.678\t4.378\t5.31\t3\n",
            "11.49\t13.22\t0.8263\t5.304\t2.695\t5.388\t5.31\t3\n",
            "12.54\t13.67\t0.8425\t5.451\t2.879\t3.082\t5.491\t3\n",
            "12.02\t13.33\t0.8503\t5.35\t2.81\t4.271\t5.308\t3\n",
            "12.05\t13.41\t0.8416\t5.267\t2.847\t4.988\t5.046\t3\n",
            "12.55\t13.57\t0.8558\t5.333\t2.968\t4.419\t5.176\t3\n",
            "11.14\t12.79\t0.8558\t5.011\t2.794\t6.388\t5.049\t3\n",
            "12.1\t13.15\t0.8793\t5.105\t2.941\t2.201\t5.056\t3\n",
            "12.44\t13.59\t0.8462\t5.319\t2.897\t4.924\t5.27\t3\n",
            "12.15\t13.45\t0.8443\t5.417\t2.837\t3.638\t5.338\t3\n",
            "11.35\t13.12\t0.8291\t5.176\t2.668\t4.337\t5.132\t3\n",
            "11.24\t13\t\t0.8359\t5.09\t2.715\t3.521\t5.088\t3\n",
            "11.02\t13\t\t0.8189\t5.325\t2.701\t6.735\t5.163\t3\n",
            "11.55\t13.1\t0.8455\t5.167\t2.845\t6.715\t4.956\t3\n",
            "11.27\t12.97\t0.8419\t5.088\t2.763\t4.309\t5\t\t3\n",
            "11.4\t13.08\t0.8375\t5.136\t2.763\t5.588\t5.089\t3\n",
            "10.83\t12.96\t0.8099\t5.278\t2.641\t5.182\t5.185\t3\n",
            "10.8\t12.57\t0.859\t4.981\t2.821\t4.773\t5.063\t3\n",
            "11.26\t13.01\t0.8355\t5.186\t2.71\t5.335\t5.092\t3\n",
            "10.74\t12.73\t0.8329\t5.145\t2.642\t4.702\t4.963\t3\n",
            "11.48\t13.05\t0.8473\t5.18\t2.758\t5.876\t5.002\t3\n",
            "12.21\t13.47\t0.8453\t5.357\t2.893\t1.661\t5.178\t3\n",
            "11.41\t12.95\t0.856\t5.09\t2.775\t4.957\t4.825\t3\n",
            "12.46\t13.41\t0.8706\t5.236\t3.017\t4.987\t5.147\t3\n",
            "12.19\t13.36\t0.8579\t5.24\t2.909\t4.857\t5.158\t3\n",
            "11.65\t13.07\t0.8575\t5.108\t2.85\t5.209\t5.135\t3\n",
            "12.89\t13.77\t0.8541\t5.495\t3.026\t6.185\t5.316\t3\n",
            "11.56\t13.31\t0.8198\t5.363\t2.683\t4.062\t5.182\t3\n",
            "11.81\t13.45\t0.8198\t5.413\t2.716\t4.898\t5.352\t3\n",
            "10.91\t12.8\t0.8372\t5.088\t2.675\t4.179\t4.956\t3\n",
            "11.23\t12.82\t0.8594\t5.089\t2.821\t7.524\t4.957\t3\n",
            "10.59\t12.41\t0.8648\t4.899\t2.787\t4.975\t4.794\t3\n",
            "10.93\t12.8\t0.839\t5.046\t2.717\t5.398\t5.045\t3\n",
            "11.27\t12.86\t0.8563\t5.091\t2.804\t3.985\t5.001\t3\n",
            "11.87\t13.02\t0.8795\t5.132\t2.953\t3.597\t5.132\t3\n",
            "10.82\t12.83\t0.8256\t5.18\t2.63\t4.853\t5.089\t3\n",
            "12.11\t13.27\t0.8639\t5.236\t2.975\t4.132\t5.012\t3\n",
            "12.8\t13.47\t0.886\t5.16\t3.126\t4.873\t4.914\t3\n",
            "12.79\t13.53\t0.8786\t5.224\t3.054\t5.483\t4.958\t3\n",
            "13.37\t13.78\t0.8849\t5.32\t3.128\t4.67\t5.091\t3\n",
            "12.62\t13.67\t0.8481\t5.41\t2.911\t3.306\t5.231\t3\n",
            "12.76\t13.38\t0.8964\t5.073\t3.155\t2.828\t4.83\t3\n",
            "12.38\t13.44\t0.8609\t5.219\t2.989\t5.472\t5.045\t3\n",
            "12.67\t13.32\t0.8977\t4.984\t3.135\t2.3\t\t4.745\t3\n",
            "11.18\t12.72\t0.868\t5.009\t2.81\t4.051\t4.828\t3\n",
            "12.7\t13.41\t0.8874\t5.183\t3.091\t8.456\t5\t\t3\n",
            "12.37\t13.47\t0.8567\t5.204\t2.96\t3.919\t5.001\t3\n",
            "12.19\t13.2\t0.8783\t5.137\t2.981\t3.631\t4.87\t3\n",
            "11.23\t12.88\t0.8511\t5.14\t2.795\t4.325\t5.003\t3\n",
            "13.2\t13.66\t0.8883\t5.236\t3.232\t8.315\t5.056\t3\n",
            "11.84\t13.21\t0.8521\t5.175\t2.836\t3.598\t5.044\t3\n",
            "12.3\t13.34\t0.8684\t5.243\t2.974\t5.637\t5.063\t3\n"
          ]
        }
      ]
    },
    {
      "cell_type": "code",
      "source": [
        "# Conta as linhas com múltiplas tabulações consecutivas\n",
        "count = 0\n",
        "with open(\"seeds_dataset.txt\", \"r\") as file:\n",
        "    for i, line in enumerate(file, start=1):\n",
        "        if \"\\t\\t\" in line:\n",
        "            count += 1\n",
        "\n",
        "print(f\"Número de linhas com múltiplas tabulações: {count}\")\n"
      ],
      "metadata": {
        "colab": {
          "base_uri": "https://localhost:8080/"
        },
        "id": "4oLWelK7j4LZ",
        "outputId": "615bc1df-d9e3-4e6e-b7fb-bed6c5b485fe"
      },
      "execution_count": 160,
      "outputs": [
        {
          "output_type": "stream",
          "name": "stdout",
          "text": [
            "Número de linhas com múltiplas tabulações: 11\n"
          ]
        }
      ]
    },
    {
      "cell_type": "code",
      "source": [
        "# Predefinição dos arquivo: bruto e tratado\n",
        "arquivo_bruto = \"seeds_dataset.txt\"\n",
        "arquivo_tratado = \"seeds_dataset_limpo.txt\"\n",
        "\n",
        "# Substituir múltiplas tabulações por uma única\n",
        "with open(arquivo_bruto, \"r\") as file, open(arquivo_tratado, \"w\") as output:\n",
        "    for linha in file:\n",
        "\n",
        "        # Substitui múltiplas tabulações\n",
        "        linha_OK = linha.replace(\"\\t\\t\", \"\\t\")\n",
        "\n",
        "        # Garante que todas as ocorrências sejam tratadas\n",
        "        while \"\\t\\t\" in linha_OK:\n",
        "            linha_OK = linha_OK.replace(\"\\t\\t\", \"\\t\")\n",
        "        output.write(linha_OK)\n",
        "\n",
        "print(f\"Arquivo limpo salvo em: {arquivo_tratado}\")"
      ],
      "metadata": {
        "colab": {
          "base_uri": "https://localhost:8080/"
        },
        "id": "Mbp0Uq74jees",
        "outputId": "8834cca4-aee1-4017-f56e-d7bf15761216"
      },
      "execution_count": 161,
      "outputs": [
        {
          "output_type": "stream",
          "name": "stdout",
          "text": [
            "Arquivo limpo salvo em: seeds_dataset_limpo.txt\n"
          ]
        }
      ]
    },
    {
      "cell_type": "code",
      "execution_count": 162,
      "metadata": {
        "colab": {
          "base_uri": "https://localhost:8080/"
        },
        "id": "Kv3XmoMOHbpU",
        "outputId": "fe540a94-fc8c-4dc1-c048-a0edba34c953"
      },
      "outputs": [
        {
          "output_type": "stream",
          "name": "stdout",
          "text": [
            "Arquivo convertido com sucesso: seeds_dataset.csv\n"
          ]
        }
      ],
      "source": [
        "# Predefinição dos arquivo csv\n",
        "arquivo_csv = \"seeds_dataset.csv\"\n",
        "\n",
        "# Ler o arquivo com separador \\t\n",
        "df = pd.read_csv(arquivo_tratado, sep=\"\\t\", header=None)\n",
        "\n",
        "# Adicionando os nomes dos títulos das colunas\n",
        "df.columns = [\"Área\", \"Perímetro\", \"Compacidade\", \"Comprimento_núcleo\", \"Largura_núcleo\", \"Coeficiente_assimetria\", \"Comprimento_suco_núcleo\", \"Tipo_grão\"]\n",
        "\n",
        "# Salve o DataFrame em CSV\n",
        "df.to_csv(arquivo_csv, index=False)\n",
        "\n",
        "print(f\"Arquivo convertido com sucesso: {arquivo_csv}\")"
      ]
    },
    {
      "cell_type": "markdown",
      "source": [
        "# INFORMAÇÕES DOS DADOS"
      ],
      "metadata": {
        "id": "SxEpuWG7ozpQ"
      }
    },
    {
      "cell_type": "code",
      "source": [
        "# Leitura do arquivo csv\n",
        "df = pd.read_csv('seeds_dataset.csv')\n",
        "\n",
        "# Apresentação dos dados\n",
        "df.head()"
      ],
      "metadata": {
        "colab": {
          "base_uri": "https://localhost:8080/",
          "height": 206
        },
        "id": "OiENGBtvo6RK",
        "outputId": "ed4f8c11-1c9b-407a-b087-a7a069562087"
      },
      "execution_count": 163,
      "outputs": [
        {
          "output_type": "execute_result",
          "data": {
            "text/plain": [
              "    Área  Perímetro  Compacidade  Comprimento_núcleo  Largura_núcleo  \\\n",
              "0  15.26      14.84       0.8710               5.763           3.312   \n",
              "1  14.88      14.57       0.8811               5.554           3.333   \n",
              "2  14.29      14.09       0.9050               5.291           3.337   \n",
              "3  13.84      13.94       0.8955               5.324           3.379   \n",
              "4  16.14      14.99       0.9034               5.658           3.562   \n",
              "\n",
              "   Coeficiente_assimetria  Comprimento_suco_núcleo  Tipo_grão  \n",
              "0                   2.221                    5.220          1  \n",
              "1                   1.018                    4.956          1  \n",
              "2                   2.699                    4.825          1  \n",
              "3                   2.259                    4.805          1  \n",
              "4                   1.355                    5.175          1  "
            ],
            "text/html": [
              "\n",
              "  <div id=\"df-288a3ba3-4e9b-4341-915c-6271c04afdcc\" class=\"colab-df-container\">\n",
              "    <div>\n",
              "<style scoped>\n",
              "    .dataframe tbody tr th:only-of-type {\n",
              "        vertical-align: middle;\n",
              "    }\n",
              "\n",
              "    .dataframe tbody tr th {\n",
              "        vertical-align: top;\n",
              "    }\n",
              "\n",
              "    .dataframe thead th {\n",
              "        text-align: right;\n",
              "    }\n",
              "</style>\n",
              "<table border=\"1\" class=\"dataframe\">\n",
              "  <thead>\n",
              "    <tr style=\"text-align: right;\">\n",
              "      <th></th>\n",
              "      <th>Área</th>\n",
              "      <th>Perímetro</th>\n",
              "      <th>Compacidade</th>\n",
              "      <th>Comprimento_núcleo</th>\n",
              "      <th>Largura_núcleo</th>\n",
              "      <th>Coeficiente_assimetria</th>\n",
              "      <th>Comprimento_suco_núcleo</th>\n",
              "      <th>Tipo_grão</th>\n",
              "    </tr>\n",
              "  </thead>\n",
              "  <tbody>\n",
              "    <tr>\n",
              "      <th>0</th>\n",
              "      <td>15.26</td>\n",
              "      <td>14.84</td>\n",
              "      <td>0.8710</td>\n",
              "      <td>5.763</td>\n",
              "      <td>3.312</td>\n",
              "      <td>2.221</td>\n",
              "      <td>5.220</td>\n",
              "      <td>1</td>\n",
              "    </tr>\n",
              "    <tr>\n",
              "      <th>1</th>\n",
              "      <td>14.88</td>\n",
              "      <td>14.57</td>\n",
              "      <td>0.8811</td>\n",
              "      <td>5.554</td>\n",
              "      <td>3.333</td>\n",
              "      <td>1.018</td>\n",
              "      <td>4.956</td>\n",
              "      <td>1</td>\n",
              "    </tr>\n",
              "    <tr>\n",
              "      <th>2</th>\n",
              "      <td>14.29</td>\n",
              "      <td>14.09</td>\n",
              "      <td>0.9050</td>\n",
              "      <td>5.291</td>\n",
              "      <td>3.337</td>\n",
              "      <td>2.699</td>\n",
              "      <td>4.825</td>\n",
              "      <td>1</td>\n",
              "    </tr>\n",
              "    <tr>\n",
              "      <th>3</th>\n",
              "      <td>13.84</td>\n",
              "      <td>13.94</td>\n",
              "      <td>0.8955</td>\n",
              "      <td>5.324</td>\n",
              "      <td>3.379</td>\n",
              "      <td>2.259</td>\n",
              "      <td>4.805</td>\n",
              "      <td>1</td>\n",
              "    </tr>\n",
              "    <tr>\n",
              "      <th>4</th>\n",
              "      <td>16.14</td>\n",
              "      <td>14.99</td>\n",
              "      <td>0.9034</td>\n",
              "      <td>5.658</td>\n",
              "      <td>3.562</td>\n",
              "      <td>1.355</td>\n",
              "      <td>5.175</td>\n",
              "      <td>1</td>\n",
              "    </tr>\n",
              "  </tbody>\n",
              "</table>\n",
              "</div>\n",
              "    <div class=\"colab-df-buttons\">\n",
              "\n",
              "  <div class=\"colab-df-container\">\n",
              "    <button class=\"colab-df-convert\" onclick=\"convertToInteractive('df-288a3ba3-4e9b-4341-915c-6271c04afdcc')\"\n",
              "            title=\"Convert this dataframe to an interactive table.\"\n",
              "            style=\"display:none;\">\n",
              "\n",
              "  <svg xmlns=\"http://www.w3.org/2000/svg\" height=\"24px\" viewBox=\"0 -960 960 960\">\n",
              "    <path d=\"M120-120v-720h720v720H120Zm60-500h600v-160H180v160Zm220 220h160v-160H400v160Zm0 220h160v-160H400v160ZM180-400h160v-160H180v160Zm440 0h160v-160H620v160ZM180-180h160v-160H180v160Zm440 0h160v-160H620v160Z\"/>\n",
              "  </svg>\n",
              "    </button>\n",
              "\n",
              "  <style>\n",
              "    .colab-df-container {\n",
              "      display:flex;\n",
              "      gap: 12px;\n",
              "    }\n",
              "\n",
              "    .colab-df-convert {\n",
              "      background-color: #E8F0FE;\n",
              "      border: none;\n",
              "      border-radius: 50%;\n",
              "      cursor: pointer;\n",
              "      display: none;\n",
              "      fill: #1967D2;\n",
              "      height: 32px;\n",
              "      padding: 0 0 0 0;\n",
              "      width: 32px;\n",
              "    }\n",
              "\n",
              "    .colab-df-convert:hover {\n",
              "      background-color: #E2EBFA;\n",
              "      box-shadow: 0px 1px 2px rgba(60, 64, 67, 0.3), 0px 1px 3px 1px rgba(60, 64, 67, 0.15);\n",
              "      fill: #174EA6;\n",
              "    }\n",
              "\n",
              "    .colab-df-buttons div {\n",
              "      margin-bottom: 4px;\n",
              "    }\n",
              "\n",
              "    [theme=dark] .colab-df-convert {\n",
              "      background-color: #3B4455;\n",
              "      fill: #D2E3FC;\n",
              "    }\n",
              "\n",
              "    [theme=dark] .colab-df-convert:hover {\n",
              "      background-color: #434B5C;\n",
              "      box-shadow: 0px 1px 3px 1px rgba(0, 0, 0, 0.15);\n",
              "      filter: drop-shadow(0px 1px 2px rgba(0, 0, 0, 0.3));\n",
              "      fill: #FFFFFF;\n",
              "    }\n",
              "  </style>\n",
              "\n",
              "    <script>\n",
              "      const buttonEl =\n",
              "        document.querySelector('#df-288a3ba3-4e9b-4341-915c-6271c04afdcc button.colab-df-convert');\n",
              "      buttonEl.style.display =\n",
              "        google.colab.kernel.accessAllowed ? 'block' : 'none';\n",
              "\n",
              "      async function convertToInteractive(key) {\n",
              "        const element = document.querySelector('#df-288a3ba3-4e9b-4341-915c-6271c04afdcc');\n",
              "        const dataTable =\n",
              "          await google.colab.kernel.invokeFunction('convertToInteractive',\n",
              "                                                    [key], {});\n",
              "        if (!dataTable) return;\n",
              "\n",
              "        const docLinkHtml = 'Like what you see? Visit the ' +\n",
              "          '<a target=\"_blank\" href=https://colab.research.google.com/notebooks/data_table.ipynb>data table notebook</a>'\n",
              "          + ' to learn more about interactive tables.';\n",
              "        element.innerHTML = '';\n",
              "        dataTable['output_type'] = 'display_data';\n",
              "        await google.colab.output.renderOutput(dataTable, element);\n",
              "        const docLink = document.createElement('div');\n",
              "        docLink.innerHTML = docLinkHtml;\n",
              "        element.appendChild(docLink);\n",
              "      }\n",
              "    </script>\n",
              "  </div>\n",
              "\n",
              "\n",
              "<div id=\"df-1e6c9060-7e40-4fbd-94bf-d52ac2b40646\">\n",
              "  <button class=\"colab-df-quickchart\" onclick=\"quickchart('df-1e6c9060-7e40-4fbd-94bf-d52ac2b40646')\"\n",
              "            title=\"Suggest charts\"\n",
              "            style=\"display:none;\">\n",
              "\n",
              "<svg xmlns=\"http://www.w3.org/2000/svg\" height=\"24px\"viewBox=\"0 0 24 24\"\n",
              "     width=\"24px\">\n",
              "    <g>\n",
              "        <path d=\"M19 3H5c-1.1 0-2 .9-2 2v14c0 1.1.9 2 2 2h14c1.1 0 2-.9 2-2V5c0-1.1-.9-2-2-2zM9 17H7v-7h2v7zm4 0h-2V7h2v10zm4 0h-2v-4h2v4z\"/>\n",
              "    </g>\n",
              "</svg>\n",
              "  </button>\n",
              "\n",
              "<style>\n",
              "  .colab-df-quickchart {\n",
              "      --bg-color: #E8F0FE;\n",
              "      --fill-color: #1967D2;\n",
              "      --hover-bg-color: #E2EBFA;\n",
              "      --hover-fill-color: #174EA6;\n",
              "      --disabled-fill-color: #AAA;\n",
              "      --disabled-bg-color: #DDD;\n",
              "  }\n",
              "\n",
              "  [theme=dark] .colab-df-quickchart {\n",
              "      --bg-color: #3B4455;\n",
              "      --fill-color: #D2E3FC;\n",
              "      --hover-bg-color: #434B5C;\n",
              "      --hover-fill-color: #FFFFFF;\n",
              "      --disabled-bg-color: #3B4455;\n",
              "      --disabled-fill-color: #666;\n",
              "  }\n",
              "\n",
              "  .colab-df-quickchart {\n",
              "    background-color: var(--bg-color);\n",
              "    border: none;\n",
              "    border-radius: 50%;\n",
              "    cursor: pointer;\n",
              "    display: none;\n",
              "    fill: var(--fill-color);\n",
              "    height: 32px;\n",
              "    padding: 0;\n",
              "    width: 32px;\n",
              "  }\n",
              "\n",
              "  .colab-df-quickchart:hover {\n",
              "    background-color: var(--hover-bg-color);\n",
              "    box-shadow: 0 1px 2px rgba(60, 64, 67, 0.3), 0 1px 3px 1px rgba(60, 64, 67, 0.15);\n",
              "    fill: var(--button-hover-fill-color);\n",
              "  }\n",
              "\n",
              "  .colab-df-quickchart-complete:disabled,\n",
              "  .colab-df-quickchart-complete:disabled:hover {\n",
              "    background-color: var(--disabled-bg-color);\n",
              "    fill: var(--disabled-fill-color);\n",
              "    box-shadow: none;\n",
              "  }\n",
              "\n",
              "  .colab-df-spinner {\n",
              "    border: 2px solid var(--fill-color);\n",
              "    border-color: transparent;\n",
              "    border-bottom-color: var(--fill-color);\n",
              "    animation:\n",
              "      spin 1s steps(1) infinite;\n",
              "  }\n",
              "\n",
              "  @keyframes spin {\n",
              "    0% {\n",
              "      border-color: transparent;\n",
              "      border-bottom-color: var(--fill-color);\n",
              "      border-left-color: var(--fill-color);\n",
              "    }\n",
              "    20% {\n",
              "      border-color: transparent;\n",
              "      border-left-color: var(--fill-color);\n",
              "      border-top-color: var(--fill-color);\n",
              "    }\n",
              "    30% {\n",
              "      border-color: transparent;\n",
              "      border-left-color: var(--fill-color);\n",
              "      border-top-color: var(--fill-color);\n",
              "      border-right-color: var(--fill-color);\n",
              "    }\n",
              "    40% {\n",
              "      border-color: transparent;\n",
              "      border-right-color: var(--fill-color);\n",
              "      border-top-color: var(--fill-color);\n",
              "    }\n",
              "    60% {\n",
              "      border-color: transparent;\n",
              "      border-right-color: var(--fill-color);\n",
              "    }\n",
              "    80% {\n",
              "      border-color: transparent;\n",
              "      border-right-color: var(--fill-color);\n",
              "      border-bottom-color: var(--fill-color);\n",
              "    }\n",
              "    90% {\n",
              "      border-color: transparent;\n",
              "      border-bottom-color: var(--fill-color);\n",
              "    }\n",
              "  }\n",
              "</style>\n",
              "\n",
              "  <script>\n",
              "    async function quickchart(key) {\n",
              "      const quickchartButtonEl =\n",
              "        document.querySelector('#' + key + ' button');\n",
              "      quickchartButtonEl.disabled = true;  // To prevent multiple clicks.\n",
              "      quickchartButtonEl.classList.add('colab-df-spinner');\n",
              "      try {\n",
              "        const charts = await google.colab.kernel.invokeFunction(\n",
              "            'suggestCharts', [key], {});\n",
              "      } catch (error) {\n",
              "        console.error('Error during call to suggestCharts:', error);\n",
              "      }\n",
              "      quickchartButtonEl.classList.remove('colab-df-spinner');\n",
              "      quickchartButtonEl.classList.add('colab-df-quickchart-complete');\n",
              "    }\n",
              "    (() => {\n",
              "      let quickchartButtonEl =\n",
              "        document.querySelector('#df-1e6c9060-7e40-4fbd-94bf-d52ac2b40646 button');\n",
              "      quickchartButtonEl.style.display =\n",
              "        google.colab.kernel.accessAllowed ? 'block' : 'none';\n",
              "    })();\n",
              "  </script>\n",
              "</div>\n",
              "\n",
              "    </div>\n",
              "  </div>\n"
            ],
            "application/vnd.google.colaboratory.intrinsic+json": {
              "type": "dataframe",
              "variable_name": "df",
              "summary": "{\n  \"name\": \"df\",\n  \"rows\": 210,\n  \"fields\": [\n    {\n      \"column\": \"\\u00c1rea\",\n      \"properties\": {\n        \"dtype\": \"number\",\n        \"std\": 2.909699430687361,\n        \"min\": 10.59,\n        \"max\": 21.18,\n        \"num_unique_values\": 193,\n        \"samples\": [\n          14.86,\n          12.49,\n          16.53\n        ],\n        \"semantic_type\": \"\",\n        \"description\": \"\"\n      }\n    },\n    {\n      \"column\": \"Per\\u00edmetro\",\n      \"properties\": {\n        \"dtype\": \"number\",\n        \"std\": 1.305958726564022,\n        \"min\": 12.41,\n        \"max\": 17.25,\n        \"num_unique_values\": 170,\n        \"samples\": [\n          13.45,\n          14.41,\n          13.92\n        ],\n        \"semantic_type\": \"\",\n        \"description\": \"\"\n      }\n    },\n    {\n      \"column\": \"Compacidade\",\n      \"properties\": {\n        \"dtype\": \"number\",\n        \"std\": 0.0236294165838465,\n        \"min\": 0.8081,\n        \"max\": 0.9183,\n        \"num_unique_values\": 186,\n        \"samples\": [\n          0.9064,\n          0.856,\n          0.8372\n        ],\n        \"semantic_type\": \"\",\n        \"description\": \"\"\n      }\n    },\n    {\n      \"column\": \"Comprimento_n\\u00facleo\",\n      \"properties\": {\n        \"dtype\": \"number\",\n        \"std\": 0.4430634777264492,\n        \"min\": 4.899,\n        \"max\": 6.675,\n        \"num_unique_values\": 188,\n        \"samples\": [\n          5.183,\n          5.186,\n          5.205\n        ],\n        \"semantic_type\": \"\",\n        \"description\": \"\"\n      }\n    },\n    {\n      \"column\": \"Largura_n\\u00facleo\",\n      \"properties\": {\n        \"dtype\": \"number\",\n        \"std\": 0.37771444490658723,\n        \"min\": 2.63,\n        \"max\": 4.033,\n        \"num_unique_values\": 184,\n        \"samples\": [\n          3.168,\n          3.393,\n          2.641\n        ],\n        \"semantic_type\": \"\",\n        \"description\": \"\"\n      }\n    },\n    {\n      \"column\": \"Coeficiente_assimetria\",\n      \"properties\": {\n        \"dtype\": \"number\",\n        \"std\": 1.5035571308217794,\n        \"min\": 0.7651,\n        \"max\": 8.456,\n        \"num_unique_values\": 207,\n        \"samples\": [\n          6.388,\n          4.185,\n          4.92\n        ],\n        \"semantic_type\": \"\",\n        \"description\": \"\"\n      }\n    },\n    {\n      \"column\": \"Comprimento_suco_n\\u00facleo\",\n      \"properties\": {\n        \"dtype\": \"number\",\n        \"std\": 0.4914804991024054,\n        \"min\": 4.519,\n        \"max\": 6.55,\n        \"num_unique_values\": 148,\n        \"samples\": [\n          5.308,\n          4.703,\n          4.957\n        ],\n        \"semantic_type\": \"\",\n        \"description\": \"\"\n      }\n    },\n    {\n      \"column\": \"Tipo_gr\\u00e3o\",\n      \"properties\": {\n        \"dtype\": \"number\",\n        \"std\": 0,\n        \"min\": 1,\n        \"max\": 3,\n        \"num_unique_values\": 3,\n        \"samples\": [\n          1,\n          2,\n          3\n        ],\n        \"semantic_type\": \"\",\n        \"description\": \"\"\n      }\n    }\n  ]\n}"
            }
          },
          "metadata": {},
          "execution_count": 163
        }
      ]
    },
    {
      "cell_type": "code",
      "execution_count": 164,
      "metadata": {
        "colab": {
          "base_uri": "https://localhost:8080/"
        },
        "id": "cTNM857tHbpV",
        "outputId": "d9bd8f79-3b9c-49f6-d30c-654de24f75dc"
      },
      "outputs": [
        {
          "output_type": "stream",
          "name": "stdout",
          "text": [
            "<class 'pandas.core.frame.DataFrame'>\n",
            "RangeIndex: 210 entries, 0 to 209\n",
            "Data columns (total 8 columns):\n",
            " #   Column                   Non-Null Count  Dtype  \n",
            "---  ------                   --------------  -----  \n",
            " 0   Área                     210 non-null    float64\n",
            " 1   Perímetro                210 non-null    float64\n",
            " 2   Compacidade              210 non-null    float64\n",
            " 3   Comprimento_núcleo       210 non-null    float64\n",
            " 4   Largura_núcleo           210 non-null    float64\n",
            " 5   Coeficiente_assimetria   210 non-null    float64\n",
            " 6   Comprimento_suco_núcleo  210 non-null    float64\n",
            " 7   Tipo_grão                210 non-null    int64  \n",
            "dtypes: float64(7), int64(1)\n",
            "memory usage: 13.2 KB\n"
          ]
        }
      ],
      "source": [
        "# Apresentação das informações gerais dos dados do arquivo\n",
        "df.info()"
      ]
    },
    {
      "cell_type": "code",
      "execution_count": 165,
      "metadata": {
        "colab": {
          "base_uri": "https://localhost:8080/"
        },
        "id": "sY_pQooLIhbM",
        "outputId": "76d6a62e-67d8-41a1-bab0-19a7cf719f64"
      },
      "outputs": [
        {
          "output_type": "stream",
          "name": "stdout",
          "text": [
            "Número de dados duplicados: 0\n"
          ]
        }
      ],
      "source": [
        "# Verificar a presença de dados duplicados\n",
        "\n",
        "duplicates = df.duplicated().sum()\n",
        "print(\"Número de dados duplicados:\", duplicates)"
      ]
    },
    {
      "cell_type": "code",
      "execution_count": 166,
      "metadata": {
        "colab": {
          "base_uri": "https://localhost:8080/",
          "height": 673
        },
        "id": "ijwSOrZbIx-P",
        "outputId": "6cba9e34-0f25-44f3-9ff3-21b1b8a720a8"
      },
      "outputs": [
        {
          "output_type": "display_data",
          "data": {
            "text/plain": [
              "<Figure size 1200x600 with 1 Axes>"
            ],
            "image/png": "[encoded data removed]"
          },
          "metadata": {}
        }
      ],
      "source": [
        "# Verificar a presença de outliers a partir da apresentação do Boxplot\n",
        "\n",
        "plt.figure(figsize=(12, 6))\n",
        "sns.boxplot(data=df)\n",
        "plt.title(\"Detecção de outliers\")\n",
        "plt.xticks(rotation=45)\n",
        "plt.show()"
      ]
    },
    {
      "cell_type": "code",
      "execution_count": 167,
      "metadata": {
        "colab": {
          "base_uri": "https://localhost:8080/",
          "height": 566
        },
        "id": "mle3jVi1JTAS",
        "outputId": "0ee8f4fd-8403-4351-d3ce-81ef26420ada"
      },
      "outputs": [
        {
          "output_type": "display_data",
          "data": {
            "text/plain": [
              "<Figure size 1000x600 with 1 Axes>"
            ],
            "image/png": "[encoded data removed]"
          },
          "metadata": {}
        }
      ],
      "source": [
        "# Apresentação da distribuição dos labels\n",
        "\n",
        "plt.figure(figsize=(10, 6))\n",
        "sns.countplot(x='Tipo_grão', data=df)\n",
        "plt.title(\"Distribuição de Grão\")\n",
        "plt.xlabel(\"Tipo de Grão\")\n",
        "plt.ylabel(\"Quantidade\")\n",
        "plt.xticks(rotation=45)\n",
        "plt.show()"
      ]
    },
    {
      "cell_type": "code",
      "execution_count": 168,
      "metadata": {
        "colab": {
          "base_uri": "https://localhost:8080/",
          "height": 872
        },
        "id": "l_l9_ZHgJxpu",
        "outputId": "e6c0eabe-b6b6-4824-cbb1-e57eefe7d93c"
      },
      "outputs": [
        {
          "output_type": "display_data",
          "data": {
            "text/plain": [
              "<Figure size 1200x800 with 2 Axes>"
            ],
            "image/png": "[encoded data removed]"
          },
          "metadata": {}
        }
      ],
      "source": [
        "# Apresentação da matriz de correção\n",
        "\n",
        "numerics = ['int16', 'int32', 'int64', 'float16', 'float32', 'float64']\n",
        "plt.figure(figsize=(12, 8))\n",
        "sns.heatmap(df.select_dtypes(include=numerics).corr(), annot=True, cmap='coolwarm')\n",
        "plt.title(\"Matriz de Correlação\")\n",
        "plt.show()"
      ]
    },
    {
      "cell_type": "markdown",
      "metadata": {
        "id": "L5DZqC3EYTCU"
      },
      "source": [
        "# LIMPEZA DE DADOS"
      ]
    },
    {
      "cell_type": "code",
      "execution_count": 169,
      "metadata": {
        "colab": {
          "base_uri": "https://localhost:8080/"
        },
        "id": "t4tzmOKBjALX",
        "outputId": "2935aae1-4d8a-451a-f3ca-78d594bef368"
      },
      "outputs": [
        {
          "output_type": "stream",
          "name": "stdout",
          "text": [
            "Coluna 'Área' possuia 0 outliers.\n",
            "Coluna 'Perímetro' possuia 0 outliers.\n",
            "Coluna 'Compacidade' possuia 3 outliers.\n",
            "Coluna 'Comprimento_núcleo' possuia 0 outliers.\n",
            "Coluna 'Largura_núcleo' possuia 0 outliers.\n",
            "Coluna 'Coeficiente_assimetria' possuia 2 outliers.\n",
            "Coluna 'Comprimento_suco_núcleo' possuia 0 outliers.\n",
            "Coluna 'Tipo_grão' possuia 0 outliers.\n"
          ]
        },
        {
          "output_type": "execute_result",
          "data": {
            "text/plain": [
              "(210, 8)"
            ]
          },
          "metadata": {},
          "execution_count": 169
        }
      ],
      "source": [
        "# Realiza o comando para retirar todos os outliers\n",
        "\n",
        "outlier_counts = {}\n",
        "\n",
        "for coluna in [\"Área\", \"Perímetro\", \"Compacidade\", \"Comprimento_núcleo\", \"Largura_núcleo\", \"Coeficiente_assimetria\", \"Comprimento_suco_núcleo\", \"Tipo_grão\"]:\n",
        "\n",
        "    ExibeValor = True\n",
        "\n",
        "    while True:\n",
        "\n",
        "        # Calcular os limites do IQR\n",
        "        Q1 = df[coluna].quantile(0.25)\n",
        "        Q3 = df[coluna].quantile(0.75)\n",
        "        IQR = Q3 - Q1\n",
        "        limite_inferior = Q1 - 1.5 * IQR\n",
        "        limite_superior = Q3 + 1.5 * IQR\n",
        "\n",
        "        # Contar os outliers da coluna atual\n",
        "        outliers = df[(df[coluna] < limite_inferior) | (df[coluna] > limite_superior)]\n",
        "        num_outliers = len(outliers)\n",
        "\n",
        "        # Coleta dados da qauntidade inicial de outliers\n",
        "        if ExibeValor == True:\n",
        "          outlier_counts[coluna] = len(outliers)\n",
        "          ExibeValor = False\n",
        "\n",
        "        # Verificar se ainda existem outliers\n",
        "        if num_outliers == 0:\n",
        "            break\n",
        "        else:\n",
        "            # Substituir os outliers pela mediana\n",
        "            mediana = df[coluna].median()\n",
        "            df[coluna] = df[coluna].apply(lambda x: mediana if x < limite_inferior or x > limite_superior else x)\n",
        "\n",
        "# Exibir a quantidade de outliers para cada coluna\n",
        "for coluna, count in outlier_counts.items():\n",
        "    print(f\"Coluna '{coluna}' possuia {count} outliers.\")\n",
        "\n",
        "# formatar o banco de dados\n",
        "df.shape"
      ]
    },
    {
      "cell_type": "code",
      "execution_count": 170,
      "metadata": {
        "colab": {
          "base_uri": "https://localhost:8080/",
          "height": 673
        },
        "id": "XNSQFikneJAU",
        "outputId": "bcb7a6d2-e58a-4ad3-aa33-63cb1c4d9be0"
      },
      "outputs": [
        {
          "output_type": "display_data",
          "data": {
            "text/plain": [
              "<Figure size 1200x600 with 1 Axes>"
            ],
            "image/png": "[encoded data removed]"
          },
          "metadata": {}
        }
      ],
      "source": [
        "# Verificar a presença de outliers a partir da apresentação do Boxplot\n",
        "\n",
        "plt.figure(figsize=(12, 6))\n",
        "sns.boxplot(data=df)\n",
        "plt.title(\"Detecção de outliers\")\n",
        "plt.xticks(rotation=45)\n",
        "plt.show()"
      ]
    },
    {
      "cell_type": "markdown",
      "metadata": {
        "id": "gumG6aJD6pHD"
      },
      "source": [
        "# DADOS PARA TREINAMENTO E APROVAÇÃO"
      ]
    },
    {
      "cell_type": "code",
      "source": [
        "# Separando features e labels\n",
        "X_estat = df"
      ],
      "metadata": {
        "id": "gP0n5FzsvtyE"
      },
      "execution_count": 171,
      "outputs": []
    },
    {
      "cell_type": "code",
      "source": [
        "# Calcular as estatísticas descritivas\n",
        "estatisticas = pd.DataFrame({\n",
        "    \"Média\": X_estat.mean(),\n",
        "    \"Mediana\": X_estat.median(),\n",
        "    \"Desvio Padrão\": X_estat.std()\n",
        "    })\n",
        "\n",
        "# Exibir as estatísticas\n",
        "print(\"Estatísticas descritivas:\")\n",
        "print(estatisticas)"
      ],
      "metadata": {
        "colab": {
          "base_uri": "https://localhost:8080/"
        },
        "id": "Avje21yD_r6_",
        "outputId": "e0d03134-030b-4cb3-de1d-32e96b883ece"
      },
      "execution_count": 172,
      "outputs": [
        {
          "output_type": "stream",
          "name": "stdout",
          "text": [
            "Estatísticas descritivas:\n",
            "                             Média    Mediana  Desvio Padrão\n",
            "Área                     14.847524  14.355000       2.909699\n",
            "Perímetro                14.559286  14.320000       1.305959\n",
            "Compacidade               0.872222   0.873487       0.021998\n",
            "Comprimento_núcleo        5.628533   5.523500       0.443063\n",
            "Largura_núcleo            3.258605   3.237000       0.377714\n",
            "Coeficiente_assimetria    3.654615   3.598500       1.431286\n",
            "Comprimento_suco_núcleo   5.408071   5.223000       0.491480\n",
            "Tipo_grão                 2.000000   2.000000       0.818448\n"
          ]
        }
      ]
    },
    {
      "cell_type": "code",
      "source": [
        "# Separando os valores para o eixo X\n",
        "X = df.drop(\"Tipo_grão\", axis=1)\n",
        "\n",
        "# Separando os valores para o eixo Y\n",
        "Y = df[\"Tipo_grão\"]"
      ],
      "metadata": {
        "id": "I4_QL75c91CD"
      },
      "execution_count": 173,
      "outputs": []
    },
    {
      "cell_type": "code",
      "source": [
        "# Aplicando MinMaxScaler\n",
        "scaler_minmax = MinMaxScaler()\n",
        "X_minmax_scaled = scaler_minmax.fit_transform(X)\n",
        "\n",
        "# Salvando os nomes das colunas par exibição\n",
        "colunas = [\"Área\", \"Perímetro\", \"Compacidade\", \"Comprimento_núcleo\", \"Largura_núcleo\", \"Coeficiente_assimetria\", \"Comprimento_suco_núcleo\"]\n",
        "\n",
        "# Mostrando as primeiras linhas dos dados escalados\n",
        "df_minmax = pd.DataFrame(X_minmax_scaled,  columns = colunas)\n",
        "df_minmax.head()"
      ],
      "metadata": {
        "colab": {
          "base_uri": "https://localhost:8080/",
          "height": 206
        },
        "id": "BxPgNIBB6Epd",
        "outputId": "0019c3e8-519e-4bcb-b2cf-750d3e6e0452"
      },
      "execution_count": 174,
      "outputs": [
        {
          "output_type": "execute_result",
          "data": {
            "text/plain": [
              "       Área  Perímetro  Compacidade  Comprimento_núcleo  Largura_núcleo  \\\n",
              "0  0.440982   0.502066     0.534449            0.486486        0.486101   \n",
              "1  0.405099   0.446281     0.633858            0.368806        0.501069   \n",
              "2  0.349386   0.347107     0.869094            0.220721        0.503920   \n",
              "3  0.306893   0.316116     0.775591            0.239302        0.533856   \n",
              "4  0.524079   0.533058     0.853346            0.427365        0.664291   \n",
              "\n",
              "   Coeficiente_assimetria  Comprimento_suco_núcleo  \n",
              "0                0.215405                 0.345150  \n",
              "1                0.037417                 0.215165  \n",
              "2                0.286126                 0.150665  \n",
              "3                0.221027                 0.140817  \n",
              "4                0.087278                 0.322994  "
            ],
            "text/html": [
              "\n",
              "  <div id=\"df-c0bb7a40-8bf4-42ac-bc4b-145d3bbfe210\" class=\"colab-df-container\">\n",
              "    <div>\n",
              "<style scoped>\n",
              "    .dataframe tbody tr th:only-of-type {\n",
              "        vertical-align: middle;\n",
              "    }\n",
              "\n",
              "    .dataframe tbody tr th {\n",
              "        vertical-align: top;\n",
              "    }\n",
              "\n",
              "    .dataframe thead th {\n",
              "        text-align: right;\n",
              "    }\n",
              "</style>\n",
              "<table border=\"1\" class=\"dataframe\">\n",
              "  <thead>\n",
              "    <tr style=\"text-align: right;\">\n",
              "      <th></th>\n",
              "      <th>Área</th>\n",
              "      <th>Perímetro</th>\n",
              "      <th>Compacidade</th>\n",
              "      <th>Comprimento_núcleo</th>\n",
              "      <th>Largura_núcleo</th>\n",
              "      <th>Coeficiente_assimetria</th>\n",
              "      <th>Comprimento_suco_núcleo</th>\n",
              "    </tr>\n",
              "  </thead>\n",
              "  <tbody>\n",
              "    <tr>\n",
              "      <th>0</th>\n",
              "      <td>0.440982</td>\n",
              "      <td>0.502066</td>\n",
              "      <td>0.534449</td>\n",
              "      <td>0.486486</td>\n",
              "      <td>0.486101</td>\n",
              "      <td>0.215405</td>\n",
              "      <td>0.345150</td>\n",
              "    </tr>\n",
              "    <tr>\n",
              "      <th>1</th>\n",
              "      <td>0.405099</td>\n",
              "      <td>0.446281</td>\n",
              "      <td>0.633858</td>\n",
              "      <td>0.368806</td>\n",
              "      <td>0.501069</td>\n",
              "      <td>0.037417</td>\n",
              "      <td>0.215165</td>\n",
              "    </tr>\n",
              "    <tr>\n",
              "      <th>2</th>\n",
              "      <td>0.349386</td>\n",
              "      <td>0.347107</td>\n",
              "      <td>0.869094</td>\n",
              "      <td>0.220721</td>\n",
              "      <td>0.503920</td>\n",
              "      <td>0.286126</td>\n",
              "      <td>0.150665</td>\n",
              "    </tr>\n",
              "    <tr>\n",
              "      <th>3</th>\n",
              "      <td>0.306893</td>\n",
              "      <td>0.316116</td>\n",
              "      <td>0.775591</td>\n",
              "      <td>0.239302</td>\n",
              "      <td>0.533856</td>\n",
              "      <td>0.221027</td>\n",
              "      <td>0.140817</td>\n",
              "    </tr>\n",
              "    <tr>\n",
              "      <th>4</th>\n",
              "      <td>0.524079</td>\n",
              "      <td>0.533058</td>\n",
              "      <td>0.853346</td>\n",
              "      <td>0.427365</td>\n",
              "      <td>0.664291</td>\n",
              "      <td>0.087278</td>\n",
              "      <td>0.322994</td>\n",
              "    </tr>\n",
              "  </tbody>\n",
              "</table>\n",
              "</div>\n",
              "    <div class=\"colab-df-buttons\">\n",
              "\n",
              "  <div class=\"colab-df-container\">\n",
              "    <button class=\"colab-df-convert\" onclick=\"convertToInteractive('df-c0bb7a40-8bf4-42ac-bc4b-145d3bbfe210')\"\n",
              "            title=\"Convert this dataframe to an interactive table.\"\n",
              "            style=\"display:none;\">\n",
              "\n",
              "  <svg xmlns=\"http://www.w3.org/2000/svg\" height=\"24px\" viewBox=\"0 -960 960 960\">\n",
              "    <path d=\"M120-120v-720h720v720H120Zm60-500h600v-160H180v160Zm220 220h160v-160H400v160Zm0 220h160v-160H400v160ZM180-400h160v-160H180v160Zm440 0h160v-160H620v160ZM180-180h160v-160H180v160Zm440 0h160v-160H620v160Z\"/>\n",
              "  </svg>\n",
              "    </button>\n",
              "\n",
              "  <style>\n",
              "    .colab-df-container {\n",
              "      display:flex;\n",
              "      gap: 12px;\n",
              "    }\n",
              "\n",
              "    .colab-df-convert {\n",
              "      background-color: #E8F0FE;\n",
              "      border: none;\n",
              "      border-radius: 50%;\n",
              "      cursor: pointer;\n",
              "      display: none;\n",
              "      fill: #1967D2;\n",
              "      height: 32px;\n",
              "      padding: 0 0 0 0;\n",
              "      width: 32px;\n",
              "    }\n",
              "\n",
              "    .colab-df-convert:hover {\n",
              "      background-color: #E2EBFA;\n",
              "      box-shadow: 0px 1px 2px rgba(60, 64, 67, 0.3), 0px 1px 3px 1px rgba(60, 64, 67, 0.15);\n",
              "      fill: #174EA6;\n",
              "    }\n",
              "\n",
              "    .colab-df-buttons div {\n",
              "      margin-bottom: 4px;\n",
              "    }\n",
              "\n",
              "    [theme=dark] .colab-df-convert {\n",
              "      background-color: #3B4455;\n",
              "      fill: #D2E3FC;\n",
              "    }\n",
              "\n",
              "    [theme=dark] .colab-df-convert:hover {\n",
              "      background-color: #434B5C;\n",
              "      box-shadow: 0px 1px 3px 1px rgba(0, 0, 0, 0.15);\n",
              "      filter: drop-shadow(0px 1px 2px rgba(0, 0, 0, 0.3));\n",
              "      fill: #FFFFFF;\n",
              "    }\n",
              "  </style>\n",
              "\n",
              "    <script>\n",
              "      const buttonEl =\n",
              "        document.querySelector('#df-c0bb7a40-8bf4-42ac-bc4b-145d3bbfe210 button.colab-df-convert');\n",
              "      buttonEl.style.display =\n",
              "        google.colab.kernel.accessAllowed ? 'block' : 'none';\n",
              "\n",
              "      async function convertToInteractive(key) {\n",
              "        const element = document.querySelector('#df-c0bb7a40-8bf4-42ac-bc4b-145d3bbfe210');\n",
              "        const dataTable =\n",
              "          await google.colab.kernel.invokeFunction('convertToInteractive',\n",
              "                                                    [key], {});\n",
              "        if (!dataTable) return;\n",
              "\n",
              "        const docLinkHtml = 'Like what you see? Visit the ' +\n",
              "          '<a target=\"_blank\" href=https://colab.research.google.com/notebooks/data_table.ipynb>data table notebook</a>'\n",
              "          + ' to learn more about interactive tables.';\n",
              "        element.innerHTML = '';\n",
              "        dataTable['output_type'] = 'display_data';\n",
              "        await google.colab.output.renderOutput(dataTable, element);\n",
              "        const docLink = document.createElement('div');\n",
              "        docLink.innerHTML = docLinkHtml;\n",
              "        element.appendChild(docLink);\n",
              "      }\n",
              "    </script>\n",
              "  </div>\n",
              "\n",
              "\n",
              "<div id=\"df-b797dfc9-96be-4038-8b83-da18d2aa0952\">\n",
              "  <button class=\"colab-df-quickchart\" onclick=\"quickchart('df-b797dfc9-96be-4038-8b83-da18d2aa0952')\"\n",
              "            title=\"Suggest charts\"\n",
              "            style=\"display:none;\">\n",
              "\n",
              "<svg xmlns=\"http://www.w3.org/2000/svg\" height=\"24px\"viewBox=\"0 0 24 24\"\n",
              "     width=\"24px\">\n",
              "    <g>\n",
              "        <path d=\"M19 3H5c-1.1 0-2 .9-2 2v14c0 1.1.9 2 2 2h14c1.1 0 2-.9 2-2V5c0-1.1-.9-2-2-2zM9 17H7v-7h2v7zm4 0h-2V7h2v10zm4 0h-2v-4h2v4z\"/>\n",
              "    </g>\n",
              "</svg>\n",
              "  </button>\n",
              "\n",
              "<style>\n",
              "  .colab-df-quickchart {\n",
              "      --bg-color: #E8F0FE;\n",
              "      --fill-color: #1967D2;\n",
              "      --hover-bg-color: #E2EBFA;\n",
              "      --hover-fill-color: #174EA6;\n",
              "      --disabled-fill-color: #AAA;\n",
              "      --disabled-bg-color: #DDD;\n",
              "  }\n",
              "\n",
              "  [theme=dark] .colab-df-quickchart {\n",
              "      --bg-color: #3B4455;\n",
              "      --fill-color: #D2E3FC;\n",
              "      --hover-bg-color: #434B5C;\n",
              "      --hover-fill-color: #FFFFFF;\n",
              "      --disabled-bg-color: #3B4455;\n",
              "      --disabled-fill-color: #666;\n",
              "  }\n",
              "\n",
              "  .colab-df-quickchart {\n",
              "    background-color: var(--bg-color);\n",
              "    border: none;\n",
              "    border-radius: 50%;\n",
              "    cursor: pointer;\n",
              "    display: none;\n",
              "    fill: var(--fill-color);\n",
              "    height: 32px;\n",
              "    padding: 0;\n",
              "    width: 32px;\n",
              "  }\n",
              "\n",
              "  .colab-df-quickchart:hover {\n",
              "    background-color: var(--hover-bg-color);\n",
              "    box-shadow: 0 1px 2px rgba(60, 64, 67, 0.3), 0 1px 3px 1px rgba(60, 64, 67, 0.15);\n",
              "    fill: var(--button-hover-fill-color);\n",
              "  }\n",
              "\n",
              "  .colab-df-quickchart-complete:disabled,\n",
              "  .colab-df-quickchart-complete:disabled:hover {\n",
              "    background-color: var(--disabled-bg-color);\n",
              "    fill: var(--disabled-fill-color);\n",
              "    box-shadow: none;\n",
              "  }\n",
              "\n",
              "  .colab-df-spinner {\n",
              "    border: 2px solid var(--fill-color);\n",
              "    border-color: transparent;\n",
              "    border-bottom-color: var(--fill-color);\n",
              "    animation:\n",
              "      spin 1s steps(1) infinite;\n",
              "  }\n",
              "\n",
              "  @keyframes spin {\n",
              "    0% {\n",
              "      border-color: transparent;\n",
              "      border-bottom-color: var(--fill-color);\n",
              "      border-left-color: var(--fill-color);\n",
              "    }\n",
              "    20% {\n",
              "      border-color: transparent;\n",
              "      border-left-color: var(--fill-color);\n",
              "      border-top-color: var(--fill-color);\n",
              "    }\n",
              "    30% {\n",
              "      border-color: transparent;\n",
              "      border-left-color: var(--fill-color);\n",
              "      border-top-color: var(--fill-color);\n",
              "      border-right-color: var(--fill-color);\n",
              "    }\n",
              "    40% {\n",
              "      border-color: transparent;\n",
              "      border-right-color: var(--fill-color);\n",
              "      border-top-color: var(--fill-color);\n",
              "    }\n",
              "    60% {\n",
              "      border-color: transparent;\n",
              "      border-right-color: var(--fill-color);\n",
              "    }\n",
              "    80% {\n",
              "      border-color: transparent;\n",
              "      border-right-color: var(--fill-color);\n",
              "      border-bottom-color: var(--fill-color);\n",
              "    }\n",
              "    90% {\n",
              "      border-color: transparent;\n",
              "      border-bottom-color: var(--fill-color);\n",
              "    }\n",
              "  }\n",
              "</style>\n",
              "\n",
              "  <script>\n",
              "    async function quickchart(key) {\n",
              "      const quickchartButtonEl =\n",
              "        document.querySelector('#' + key + ' button');\n",
              "      quickchartButtonEl.disabled = true;  // To prevent multiple clicks.\n",
              "      quickchartButtonEl.classList.add('colab-df-spinner');\n",
              "      try {\n",
              "        const charts = await google.colab.kernel.invokeFunction(\n",
              "            'suggestCharts', [key], {});\n",
              "      } catch (error) {\n",
              "        console.error('Error during call to suggestCharts:', error);\n",
              "      }\n",
              "      quickchartButtonEl.classList.remove('colab-df-spinner');\n",
              "      quickchartButtonEl.classList.add('colab-df-quickchart-complete');\n",
              "    }\n",
              "    (() => {\n",
              "      let quickchartButtonEl =\n",
              "        document.querySelector('#df-b797dfc9-96be-4038-8b83-da18d2aa0952 button');\n",
              "      quickchartButtonEl.style.display =\n",
              "        google.colab.kernel.accessAllowed ? 'block' : 'none';\n",
              "    })();\n",
              "  </script>\n",
              "</div>\n",
              "\n",
              "    </div>\n",
              "  </div>\n"
            ],
            "application/vnd.google.colaboratory.intrinsic+json": {
              "type": "dataframe",
              "variable_name": "df_minmax",
              "summary": "{\n  \"name\": \"df_minmax\",\n  \"rows\": 210,\n  \"fields\": [\n    {\n      \"column\": \"\\u00c1rea\",\n      \"properties\": {\n        \"dtype\": \"number\",\n        \"std\": 0.27475915303941084,\n        \"min\": 0.0,\n        \"max\": 1.0,\n        \"num_unique_values\": 193,\n        \"samples\": [\n          0.40321057601510857,\n          0.17941454202077445,\n          0.5609065155807367\n        ],\n        \"semantic_type\": \"\",\n        \"description\": \"\"\n      }\n    },\n    {\n      \"column\": \"Per\\u00edmetro\",\n      \"properties\": {\n        \"dtype\": \"number\",\n        \"std\": 0.26982618317438467,\n        \"min\": 0.0,\n        \"max\": 1.0,\n        \"num_unique_values\": 170,\n        \"samples\": [\n          0.21487603305785097,\n          0.4132231404958677,\n          0.31198347107438007\n        ],\n        \"semantic_type\": \"\",\n        \"description\": \"\"\n      }\n    },\n    {\n      \"column\": \"Compacidade\",\n      \"properties\": {\n        \"dtype\": \"number\",\n        \"std\": 0.21651401657360786,\n        \"min\": 0.0,\n        \"max\": 1.0,\n        \"num_unique_values\": 184,\n        \"samples\": [\n          0.41043307086614256,\n          0.8061023622047241,\n          0.24803149606299257\n        ],\n        \"semantic_type\": \"\",\n        \"description\": \"\"\n      }\n    },\n    {\n      \"column\": \"Comprimento_n\\u00facleo\",\n      \"properties\": {\n        \"dtype\": \"number\",\n        \"std\": 0.24947267890002767,\n        \"min\": 0.0,\n        \"max\": 1.0,\n        \"num_unique_values\": 188,\n        \"samples\": [\n          0.15990990990990994,\n          0.16159909909909898,\n          0.17229729729729737\n        ],\n        \"semantic_type\": \"\",\n        \"description\": \"\"\n      }\n    },\n    {\n      \"column\": \"Largura_n\\u00facleo\",\n      \"properties\": {\n        \"dtype\": \"number\",\n        \"std\": 0.26921913393199376,\n        \"min\": 0.0,\n        \"max\": 1.0000000000000002,\n        \"num_unique_values\": 184,\n        \"samples\": [\n          0.38346400570206707,\n          0.5438346400570204,\n          0.007840342124020072\n        ],\n        \"semantic_type\": \"\",\n        \"description\": \"\"\n      }\n    },\n    {\n      \"column\": \"Coeficiente_assimetria\",\n      \"properties\": {\n        \"dtype\": \"number\",\n        \"std\": 0.21176313759762994,\n        \"min\": 0.0,\n        \"max\": 1.0,\n        \"num_unique_values\": 206,\n        \"samples\": [\n          0.5059847016526358,\n          0.17812070011392386,\n          0.46662918522244745\n        ],\n        \"semantic_type\": \"\",\n        \"description\": \"\"\n      }\n    },\n    {\n      \"column\": \"Comprimento_suco_n\\u00facleo\",\n      \"properties\": {\n        \"dtype\": \"number\",\n        \"std\": 0.2419894136397859,\n        \"min\": 0.0,\n        \"max\": 1.0,\n        \"num_unique_values\": 148,\n        \"samples\": [\n          0.3884785819793204,\n          0.09059576563269323,\n          0.21565731166912805\n        ],\n        \"semantic_type\": \"\",\n        \"description\": \"\"\n      }\n    }\n  ]\n}"
            }
          },
          "metadata": {},
          "execution_count": 174
        }
      ]
    },
    {
      "cell_type": "code",
      "source": [
        "# Atualizando os valores para o eixo X após MinMaxScaler\n",
        "X = df_minmax"
      ],
      "metadata": {
        "id": "NkiK3bWJya_t"
      },
      "execution_count": 175,
      "outputs": []
    },
    {
      "cell_type": "code",
      "source": [
        "# Novos calulos das estatísticas descritivas após MinMaxScaler\n",
        "estatisticas = pd.DataFrame({\n",
        "    \"Média\": X.mean(),\n",
        "    \"Mediana\": X.median(),\n",
        "    \"Desvio Padrão\": X.std()\n",
        "    })\n",
        "\n",
        "# Exibir as estatísticas\n",
        "print(\"Estatísticas descritivas:\")\n",
        "print(estatisticas)"
      ],
      "metadata": {
        "colab": {
          "base_uri": "https://localhost:8080/"
        },
        "outputId": "89ab6ce3-2fd3-454d-f28b-f992527fa789",
        "id": "ZabrcHW_zfFp"
      },
      "execution_count": 176,
      "outputs": [
        {
          "output_type": "stream",
          "name": "stdout",
          "text": [
            "Estatísticas descritivas:\n",
            "                            Média   Mediana  Desvio Padrão\n",
            "Área                     0.402032  0.355524       0.274759\n",
            "Perímetro                0.444067  0.394628       0.269826\n",
            "Compacidade              0.546477  0.558932       0.216514\n",
            "Comprimento_núcleo       0.410773  0.351633       0.249473\n",
            "Largura_núcleo           0.448043  0.432644       0.269219\n",
            "Coeficiente_assimetria   0.427513  0.419210       0.211763\n",
            "Comprimento_suco_núcleo  0.437751  0.346627       0.241989\n"
          ]
        }
      ]
    },
    {
      "cell_type": "code",
      "source": [
        "# Dividindo os dados em conjuntos de treino e teste (70% treino, 30% teste)\n",
        "X_train, X_test, y_train, y_test = train_test_split(X, Y, test_size=0.3, random_state=65)\n",
        "\n",
        "# Conjuntos de dados\n",
        "print(f'Tamanho do conjunto de dados original: {X.shape}')\n",
        "print(f'Tamanho do conjunto de treinamento: {X_train.shape}')\n",
        "print(f'Tamanho do conjunto de teste: {X_test.shape}')\n",
        "\n",
        "# Exibir as primeiras linhas do conjunto antes e depois do split\n",
        "print(\"Conjunto de dados antes do split:\")\n",
        "display(df[\"Tipo_grão\"].head())\n",
        "print(\"\\nConjunto de treinamento:\")\n",
        "display(y_train.head())"
      ],
      "metadata": {
        "colab": {
          "base_uri": "https://localhost:8080/",
          "height": 569
        },
        "id": "fBKG3_yA9qqM",
        "outputId": "223a0f3e-4278-4cb7-b8c6-a3f9cbe7bc24"
      },
      "execution_count": 177,
      "outputs": [
        {
          "output_type": "stream",
          "name": "stdout",
          "text": [
            "Tamanho do conjunto de dados original: (210, 7)\n",
            "Tamanho do conjunto de treinamento: (147, 7)\n",
            "Tamanho do conjunto de teste: (63, 7)\n",
            "Conjunto de dados antes do split:\n"
          ]
        },
        {
          "output_type": "display_data",
          "data": {
            "text/plain": [
              "0    1\n",
              "1    1\n",
              "2    1\n",
              "3    1\n",
              "4    1\n",
              "Name: Tipo_grão, dtype: int64"
            ],
            "text/html": [
              "<div>\n",
              "<style scoped>\n",
              "    .dataframe tbody tr th:only-of-type {\n",
              "        vertical-align: middle;\n",
              "    }\n",
              "\n",
              "    .dataframe tbody tr th {\n",
              "        vertical-align: top;\n",
              "    }\n",
              "\n",
              "    .dataframe thead th {\n",
              "        text-align: right;\n",
              "    }\n",
              "</style>\n",
              "<table border=\"1\" class=\"dataframe\">\n",
              "  <thead>\n",
              "    <tr style=\"text-align: right;\">\n",
              "      <th></th>\n",
              "      <th>Tipo_grão</th>\n",
              "    </tr>\n",
              "  </thead>\n",
              "  <tbody>\n",
              "    <tr>\n",
              "      <th>0</th>\n",
              "      <td>1</td>\n",
              "    </tr>\n",
              "    <tr>\n",
              "      <th>1</th>\n",
              "      <td>1</td>\n",
              "    </tr>\n",
              "    <tr>\n",
              "      <th>2</th>\n",
              "      <td>1</td>\n",
              "    </tr>\n",
              "    <tr>\n",
              "      <th>3</th>\n",
              "      <td>1</td>\n",
              "    </tr>\n",
              "    <tr>\n",
              "      <th>4</th>\n",
              "      <td>1</td>\n",
              "    </tr>\n",
              "  </tbody>\n",
              "</table>\n",
              "</div><br><label><b>dtype:</b> int64</label>"
            ]
          },
          "metadata": {}
        },
        {
          "output_type": "stream",
          "name": "stdout",
          "text": [
            "\n",
            "Conjunto de treinamento:\n"
          ]
        },
        {
          "output_type": "display_data",
          "data": {
            "text/plain": [
              "18    1\n",
              "37    1\n",
              "28    1\n",
              "82    2\n",
              "60    1\n",
              "Name: Tipo_grão, dtype: int64"
            ],
            "text/html": [
              "<div>\n",
              "<style scoped>\n",
              "    .dataframe tbody tr th:only-of-type {\n",
              "        vertical-align: middle;\n",
              "    }\n",
              "\n",
              "    .dataframe tbody tr th {\n",
              "        vertical-align: top;\n",
              "    }\n",
              "\n",
              "    .dataframe thead th {\n",
              "        text-align: right;\n",
              "    }\n",
              "</style>\n",
              "<table border=\"1\" class=\"dataframe\">\n",
              "  <thead>\n",
              "    <tr style=\"text-align: right;\">\n",
              "      <th></th>\n",
              "      <th>Tipo_grão</th>\n",
              "    </tr>\n",
              "  </thead>\n",
              "  <tbody>\n",
              "    <tr>\n",
              "      <th>18</th>\n",
              "      <td>1</td>\n",
              "    </tr>\n",
              "    <tr>\n",
              "      <th>37</th>\n",
              "      <td>1</td>\n",
              "    </tr>\n",
              "    <tr>\n",
              "      <th>28</th>\n",
              "      <td>1</td>\n",
              "    </tr>\n",
              "    <tr>\n",
              "      <th>82</th>\n",
              "      <td>2</td>\n",
              "    </tr>\n",
              "    <tr>\n",
              "      <th>60</th>\n",
              "      <td>1</td>\n",
              "    </tr>\n",
              "  </tbody>\n",
              "</table>\n",
              "</div><br><label><b>dtype:</b> int64</label>"
            ]
          },
          "metadata": {}
        }
      ]
    },
    {
      "cell_type": "markdown",
      "metadata": {
        "id": "X-52PEoX_dOw"
      },
      "source": [
        "# CONSTRUÇÃO DOS MODELO PREDITIVOS"
      ]
    },
    {
      "cell_type": "code",
      "execution_count": 178,
      "metadata": {
        "id": "42j7ukbZEh4b"
      },
      "outputs": [],
      "source": [
        "# Gera dicionário para armazenar as acurácias de cada modelo e posteriormente rankear\n",
        "modelos = {}"
      ]
    },
    {
      "cell_type": "code",
      "execution_count": 179,
      "metadata": {
        "colab": {
          "base_uri": "https://localhost:8080/"
        },
        "id": "WLxRNS0j_ZXP",
        "outputId": "4387c33c-8ee3-4ef5-8f87-c4d3ac5197ee"
      },
      "outputs": [
        {
          "output_type": "stream",
          "name": "stdout",
          "text": [
            "Acurácia Regressão Logística: 0.9682539682539683\n",
            "              precision    recall  f1-score   support\n",
            "\n",
            "           1       0.96      0.96      0.96        23\n",
            "           2       1.00      1.00      1.00        21\n",
            "           3       0.95      0.95      0.95        19\n",
            "\n",
            "    accuracy                           0.97        63\n",
            "   macro avg       0.97      0.97      0.97        63\n",
            "weighted avg       0.97      0.97      0.97        63\n",
            "\n",
            "Erro Quadrático Médio (MSE): 0.13\n",
            "Raiz do Erro Quadrático Médio (RMSE): 0.36\n",
            "Média do Erro Absoluto (MAE): 0.06\n",
            "Erro Percentual Médio Absoluto (MAPE): 0.04\n",
            "Coeficiente de Determinação (R²): 0.81\n"
          ]
        }
      ],
      "source": [
        "# Regressão Logística\n",
        "\n",
        "logreg = LogisticRegression()\n",
        "logreg.fit(X_train, y_train)\n",
        "y_pred_logreg = logreg.predict(X_test)\n",
        "\n",
        "# Resultados\n",
        "ScoreRL = accuracy_score(y_test, y_pred_logreg)\n",
        "print(\"Acurácia Regressão Logística:\", ScoreRL)\n",
        "print(classification_report(y_test, y_pred_logreg))\n",
        "\n",
        "# Armazena valor\n",
        "modelos ['Regressão Logística'] = ScoreRL\n",
        "\n",
        "# Calculando as métricas\n",
        "mse = mean_squared_error(y_test, y_pred_logreg)\n",
        "rmse = np.sqrt(mse)\n",
        "mae = mean_absolute_error(y_test, y_pred_logreg)\n",
        "mape = mean_absolute_percentage_error(y_test, y_pred_logreg)\n",
        "r2 = r2_score(y_test, y_pred_logreg)\n",
        "\n",
        "# Exibindo as métricas\n",
        "print(f\"Erro Quadrático Médio (MSE): {mse:.2f}\")\n",
        "print(f\"Raiz do Erro Quadrático Médio (RMSE): {rmse:.2f}\")\n",
        "print(f\"Média do Erro Absoluto (MAE): {mae:.2f}\")\n",
        "print(f\"Erro Percentual Médio Absoluto (MAPE): {mape:.2f}\")\n",
        "print(f\"Coeficiente de Determinação (R²): {r2:.2f}\")"
      ]
    },
    {
      "cell_type": "code",
      "execution_count": 180,
      "metadata": {
        "colab": {
          "base_uri": "https://localhost:8080/"
        },
        "id": "bTSXRbP9_pTP",
        "outputId": "34eaf695-6ebc-4934-a4c0-0eff5a3a177d"
      },
      "outputs": [
        {
          "output_type": "stream",
          "name": "stdout",
          "text": [
            "Acurácia KNN: 0.9682539682539683\n",
            "              precision    recall  f1-score   support\n",
            "\n",
            "           1       0.96      0.96      0.96        23\n",
            "           2       1.00      1.00      1.00        21\n",
            "           3       0.95      0.95      0.95        19\n",
            "\n",
            "    accuracy                           0.97        63\n",
            "   macro avg       0.97      0.97      0.97        63\n",
            "weighted avg       0.97      0.97      0.97        63\n",
            "\n",
            "Erro Quadrático Médio (MSE): 0.13\n",
            "Raiz do Erro Quadrático Médio (RMSE): 0.36\n",
            "Média do Erro Absoluto (MAE): 0.06\n",
            "Erro Percentual Médio Absoluto (MAPE): 0.04\n",
            "Coeficiente de Determinação (R²): 0.81\n"
          ]
        }
      ],
      "source": [
        "# KNN - 10 vizinhos\n",
        "\n",
        "knn = KNeighborsClassifier(n_neighbors=10)\n",
        "knn.fit(X_train, y_train)\n",
        "y_pred_knn = knn.predict(X_test)\n",
        "\n",
        "# Resultados\n",
        "ScoreKNN = accuracy_score(y_test, y_pred_knn)\n",
        "print(\"Acurácia KNN:\", ScoreKNN)\n",
        "print(classification_report(y_test, y_pred_knn))\n",
        "\n",
        "# Armazena valor\n",
        "modelos ['KNN'] = ScoreKNN\n",
        "\n",
        "# Calculando as métricas\n",
        "mse = mean_squared_error(y_test, y_pred_knn)\n",
        "rmse = np.sqrt(mse)\n",
        "mae = mean_absolute_error(y_test, y_pred_knn)\n",
        "mape = mean_absolute_percentage_error(y_test, y_pred_knn)\n",
        "r2 = r2_score(y_test, y_pred_knn)\n",
        "\n",
        "# Exibindo as métricas\n",
        "print(f\"Erro Quadrático Médio (MSE): {mse:.2f}\")\n",
        "print(f\"Raiz do Erro Quadrático Médio (RMSE): {rmse:.2f}\")\n",
        "print(f\"Média do Erro Absoluto (MAE): {mae:.2f}\")\n",
        "print(f\"Erro Percentual Médio Absoluto (MAPE): {mape:.2f}\")\n",
        "print(f\"Coeficiente de Determinação (R²): {r2:.2f}\")"
      ]
    },
    {
      "cell_type": "code",
      "execution_count": 181,
      "metadata": {
        "colab": {
          "base_uri": "https://localhost:8080/"
        },
        "id": "Npy3BATW_zGl",
        "outputId": "113d1786-436e-4e3b-991f-4abe2e503caf"
      },
      "outputs": [
        {
          "output_type": "stream",
          "name": "stdout",
          "text": [
            "Acurácia SVM (RBF): 0.9682539682539683\n",
            "              precision    recall  f1-score   support\n",
            "\n",
            "           1       0.92      1.00      0.96        23\n",
            "           2       1.00      1.00      1.00        21\n",
            "           3       1.00      0.89      0.94        19\n",
            "\n",
            "    accuracy                           0.97        63\n",
            "   macro avg       0.97      0.96      0.97        63\n",
            "weighted avg       0.97      0.97      0.97        63\n",
            "\n",
            "Erro Quadrático Médio (MSE): 0.13\n",
            "Raiz do Erro Quadrático Médio (RMSE): 0.36\n",
            "Média do Erro Absoluto (MAE): 0.06\n",
            "Erro Percentual Médio Absoluto (MAPE): 0.02\n",
            "Coeficiente de Determinação (R²): 0.81\n"
          ]
        }
      ],
      "source": [
        "# SVM com kernel RBF -> mais complexo\n",
        "svm_rbf = SVC(kernel='rbf')\n",
        "svm_rbf.fit(X_train, y_train)\n",
        "y_pred_svm_rbf = svm_rbf.predict(X_test)\n",
        "\n",
        "# Resultados\n",
        "ScoreSVM_RBF = accuracy_score(y_test, y_pred_svm_rbf)\n",
        "print(\"Acurácia SVM (RBF):\", ScoreSVM_RBF)\n",
        "print(classification_report(y_test, y_pred_svm_rbf))\n",
        "\n",
        "# Armazena valor\n",
        "modelos ['SVM (RBF)'] = ScoreSVM_RBF\n",
        "\n",
        "# Calculando as métricas\n",
        "mse = mean_squared_error(y_test, y_pred_svm_rbf)\n",
        "rmse = np.sqrt(mse)\n",
        "mae = mean_absolute_error(y_test, y_pred_svm_rbf)\n",
        "mape = mean_absolute_percentage_error(y_test, y_pred_svm_rbf)\n",
        "r2 = r2_score(y_test, y_pred_svm_rbf)\n",
        "\n",
        "# Exibindo as métricas\n",
        "print(f\"Erro Quadrático Médio (MSE): {mse:.2f}\")\n",
        "print(f\"Raiz do Erro Quadrático Médio (RMSE): {rmse:.2f}\")\n",
        "print(f\"Média do Erro Absoluto (MAE): {mae:.2f}\")\n",
        "print(f\"Erro Percentual Médio Absoluto (MAPE): {mape:.2f}\")\n",
        "print(f\"Coeficiente de Determinação (R²): {r2:.2f}\")"
      ]
    },
    {
      "cell_type": "code",
      "execution_count": 182,
      "metadata": {
        "colab": {
          "base_uri": "https://localhost:8080/"
        },
        "id": "yaEWFVXK_z4Y",
        "outputId": "335c8f33-7220-44d8-b914-61cadc75e15a"
      },
      "outputs": [
        {
          "output_type": "stream",
          "name": "stdout",
          "text": [
            "Acurácia SVM (Polinomial): 0.9841269841269841\n",
            "              precision    recall  f1-score   support\n",
            "\n",
            "           1       1.00      0.96      0.98        23\n",
            "           2       1.00      1.00      1.00        21\n",
            "           3       0.95      1.00      0.97        19\n",
            "\n",
            "    accuracy                           0.98        63\n",
            "   macro avg       0.98      0.99      0.98        63\n",
            "weighted avg       0.98      0.98      0.98        63\n",
            "\n",
            "Erro Quadrático Médio (MSE): 0.06\n",
            "Raiz do Erro Quadrático Médio (RMSE): 0.25\n",
            "Média do Erro Absoluto (MAE): 0.03\n",
            "Erro Percentual Médio Absoluto (MAPE): 0.03\n",
            "Coeficiente de Determinação (R²): 0.90\n"
          ]
        }
      ],
      "source": [
        "# SVM com kernel polinomial -> intermediário\n",
        "svm_poly = SVC(kernel='poly')\n",
        "svm_poly.fit(X_train, y_train)\n",
        "y_pred_svm_poly = svm_poly.predict(X_test)\n",
        "\n",
        "# Resultados\n",
        "ScoreSVM_P = accuracy_score(y_test, y_pred_svm_poly)\n",
        "print(\"Acurácia SVM (Polinomial):\", ScoreSVM_P )\n",
        "print(classification_report(y_test, y_pred_svm_poly))\n",
        "\n",
        "# Armazena valor\n",
        "modelos ['SVM (Polinomial)'] = ScoreSVM_P\n",
        "\n",
        "# Calculando as métricas\n",
        "mse = mean_squared_error(y_test, y_pred_svm_poly)\n",
        "rmse = np.sqrt(mse)\n",
        "mae = mean_absolute_error(y_test, y_pred_svm_poly)\n",
        "mape = mean_absolute_percentage_error(y_test, y_pred_svm_poly)\n",
        "r2 = r2_score(y_test, y_pred_svm_poly)\n",
        "\n",
        "# Exibindo as métricas\n",
        "print(f\"Erro Quadrático Médio (MSE): {mse:.2f}\")\n",
        "print(f\"Raiz do Erro Quadrático Médio (RMSE): {rmse:.2f}\")\n",
        "print(f\"Média do Erro Absoluto (MAE): {mae:.2f}\")\n",
        "print(f\"Erro Percentual Médio Absoluto (MAPE): {mape:.2f}\")\n",
        "print(f\"Coeficiente de Determinação (R²): {r2:.2f}\")"
      ]
    },
    {
      "cell_type": "code",
      "execution_count": 183,
      "metadata": {
        "colab": {
          "base_uri": "https://localhost:8080/"
        },
        "id": "DPGOsPll_z8K",
        "outputId": "59a7c35a-c2eb-407d-ce5e-b7348c27f09b"
      },
      "outputs": [
        {
          "output_type": "stream",
          "name": "stdout",
          "text": [
            "Acurácia SVM (Linear): 0.9523809523809523\n",
            "              precision    recall  f1-score   support\n",
            "\n",
            "           1       0.92      0.96      0.94        23\n",
            "           2       1.00      1.00      1.00        21\n",
            "           3       0.94      0.89      0.92        19\n",
            "\n",
            "    accuracy                           0.95        63\n",
            "   macro avg       0.95      0.95      0.95        63\n",
            "weighted avg       0.95      0.95      0.95        63\n",
            "\n",
            "Erro Quadrático Médio (MSE): 0.19\n",
            "Raiz do Erro Quadrático Médio (RMSE): 0.44\n",
            "Média do Erro Absoluto (MAE): 0.10\n",
            "Erro Percentual Médio Absoluto (MAPE): 0.05\n",
            "Coeficiente de Determinação (R²): 0.71\n"
          ]
        }
      ],
      "source": [
        "# SVM com kernel linear -> o mais simples\n",
        "svm_linear = SVC(kernel='linear')\n",
        "svm_linear.fit(X_train, y_train)\n",
        "y_pred_svm_linear = svm_linear.predict(X_test)\n",
        "\n",
        "# Resultados\n",
        "ScoreSVM_L = accuracy_score(y_test, y_pred_svm_linear)\n",
        "print(\"Acurácia SVM (Linear):\", ScoreSVM_L)\n",
        "print(classification_report(y_test, y_pred_svm_linear))\n",
        "\n",
        "# Armazena valor\n",
        "modelos ['SVM (Linear)'] = ScoreSVM_L\n",
        "\n",
        "# Calculando as métricas\n",
        "mse = mean_squared_error(y_test, y_pred_svm_linear)\n",
        "rmse = np.sqrt(mse)\n",
        "mae = mean_absolute_error(y_test, y_pred_svm_linear)\n",
        "mape = mean_absolute_percentage_error(y_test, y_pred_svm_linear)\n",
        "r2 = r2_score(y_test, y_pred_svm_linear)\n",
        "\n",
        "# Exibindo as métricas\n",
        "print(f\"Erro Quadrático Médio (MSE): {mse:.2f}\")\n",
        "print(f\"Raiz do Erro Quadrático Médio (RMSE): {rmse:.2f}\")\n",
        "print(f\"Média do Erro Absoluto (MAE): {mae:.2f}\")\n",
        "print(f\"Erro Percentual Médio Absoluto (MAPE): {mape:.2f}\")\n",
        "print(f\"Coeficiente de Determinação (R²): {r2:.2f}\")"
      ]
    },
    {
      "cell_type": "code",
      "execution_count": 184,
      "metadata": {
        "colab": {
          "base_uri": "https://localhost:8080/"
        },
        "id": "Rp3DlTrvEJjj",
        "outputId": "7cce1942-eeb4-477a-ec11-dfee8523e875"
      },
      "outputs": [
        {
          "output_type": "stream",
          "name": "stdout",
          "text": [
            "Acurácia Decision Tree: 0.9206349206349206\n",
            "              precision    recall  f1-score   support\n",
            "\n",
            "           1       0.85      0.96      0.90        23\n",
            "           2       1.00      0.90      0.95        21\n",
            "           3       0.94      0.89      0.92        19\n",
            "\n",
            "    accuracy                           0.92        63\n",
            "   macro avg       0.93      0.92      0.92        63\n",
            "weighted avg       0.93      0.92      0.92        63\n",
            "\n",
            "Erro Quadrático Médio (MSE): 0.22\n",
            "Raiz do Erro Quadrático Médio (RMSE): 0.47\n",
            "Média do Erro Absoluto (MAE): 0.13\n",
            "Erro Percentual Médio Absoluto (MAPE): 0.07\n",
            "Coeficiente de Determinação (R²): 0.66\n"
          ]
        }
      ],
      "source": [
        "# Decision Tree\n",
        "dt = DecisionTreeClassifier()\n",
        "dt.fit(X_train, y_train)\n",
        "y_pred_dt = dt.predict(X_test)\n",
        "\n",
        "# Resultados\n",
        "ScoreDT = accuracy_score(y_test, y_pred_dt)\n",
        "print(\"Acurácia Decision Tree:\", ScoreDT)\n",
        "print(classification_report(y_test, y_pred_dt))\n",
        "\n",
        "# Armazena valor\n",
        "modelos ['Decision Tree'] = ScoreDT\n",
        "\n",
        "# Calculando as métricas\n",
        "mse = mean_squared_error(y_test, y_pred_dt )\n",
        "rmse = np.sqrt(mse)\n",
        "mae = mean_absolute_error(y_test, y_pred_dt )\n",
        "mape = mean_absolute_percentage_error(y_test, y_pred_dt )\n",
        "r2 = r2_score(y_test, y_pred_dt )\n",
        "\n",
        "# Exibindo as métricas\n",
        "print(f\"Erro Quadrático Médio (MSE): {mse:.2f}\")\n",
        "print(f\"Raiz do Erro Quadrático Médio (RMSE): {rmse:.2f}\")\n",
        "print(f\"Média do Erro Absoluto (MAE): {mae:.2f}\")\n",
        "print(f\"Erro Percentual Médio Absoluto (MAPE): {mape:.2f}\")\n",
        "print(f\"Coeficiente de Determinação (R²): {r2:.2f}\")"
      ]
    },
    {
      "cell_type": "code",
      "execution_count": 185,
      "metadata": {
        "colab": {
          "base_uri": "https://localhost:8080/"
        },
        "id": "h57nhldbEKet",
        "outputId": "73cd98c5-dd81-49bb-a09b-1e9e36a58df0"
      },
      "outputs": [
        {
          "output_type": "stream",
          "name": "stdout",
          "text": [
            "Acurácia Random Forest: 0.9523809523809523\n",
            "              precision    recall  f1-score   support\n",
            "\n",
            "           1       0.92      0.96      0.94        23\n",
            "           2       1.00      1.00      1.00        21\n",
            "           3       0.94      0.89      0.92        19\n",
            "\n",
            "    accuracy                           0.95        63\n",
            "   macro avg       0.95      0.95      0.95        63\n",
            "weighted avg       0.95      0.95      0.95        63\n",
            "\n",
            "Erro Quadrático Médio (MSE): 0.19\n",
            "Raiz do Erro Quadrático Médio (RMSE): 0.44\n",
            "Média do Erro Absoluto (MAE): 0.10\n",
            "Erro Percentual Médio Absoluto (MAPE): 0.05\n",
            "Coeficiente de Determinação (R²): 0.71\n"
          ]
        }
      ],
      "source": [
        "# Random Forest\n",
        "rf = RandomForestClassifier(n_estimators=25)\n",
        "rf.fit(X_train, y_train)\n",
        "y_pred_rf = rf.predict(X_test)\n",
        "\n",
        "# Resultados\n",
        "ScoreRFO = accuracy_score(y_test, y_pred_rf)\n",
        "print(\"Acurácia Random Forest:\", ScoreRFO)\n",
        "print(classification_report(y_test, y_pred_rf))\n",
        "\n",
        "# Armazena valor\n",
        "modelos ['Random Forest'] = ScoreRFO\n",
        "\n",
        "# Calculando as métricas\n",
        "mse = mean_squared_error(y_test, y_pred_rf)\n",
        "rmse = np.sqrt(mse)\n",
        "mae = mean_absolute_error(y_test, y_pred_rf)\n",
        "mape = mean_absolute_percentage_error(y_test, y_pred_rf)\n",
        "r2 = r2_score(y_test, y_pred_rf)\n",
        "\n",
        "# Exibindo as métricas\n",
        "print(f\"Erro Quadrático Médio (MSE): {mse:.2f}\")\n",
        "print(f\"Raiz do Erro Quadrático Médio (RMSE): {rmse:.2f}\")\n",
        "print(f\"Média do Erro Absoluto (MAE): {mae:.2f}\")\n",
        "print(f\"Erro Percentual Médio Absoluto (MAPE): {mape:.2f}\")\n",
        "print(f\"Coeficiente de Determinação (R²): {r2:.2f}\")"
      ]
    },
    {
      "cell_type": "markdown",
      "source": [
        "# RESULTADOS"
      ],
      "metadata": {
        "id": "2Uj39mfZ50k1"
      }
    },
    {
      "cell_type": "code",
      "execution_count": 186,
      "metadata": {
        "colab": {
          "base_uri": "https://localhost:8080/"
        },
        "id": "3oHMG9fTBYJE",
        "outputId": "45147bfe-19b9-470c-d2c8-08b064d30207"
      },
      "outputs": [
        {
          "output_type": "stream",
          "name": "stdout",
          "text": [
            "Ranking dos Mellhores Modelos:\n",
            "\n",
            "1. SVM (Polinomial): 0.9841\n",
            "2. Regressão Logística: 0.9683\n",
            "3. KNN: 0.9683\n",
            "4. SVM (RBF): 0.9683\n",
            "5. SVM (Linear): 0.9524\n",
            "6. Random Forest: 0.9524\n",
            "7. Decision Tree: 0.9206\n"
          ]
        }
      ],
      "source": [
        "# CONCLUSÃO\n",
        "\n",
        "# Gerar o ranking das acurácias\n",
        "ranking = sorted(modelos.items(), key=lambda x: x[1], reverse=True)\n",
        "\n",
        "# Exibir o ranking\n",
        "print(\"Ranking dos Mellhores Modelos:\\n\")\n",
        "for i, (model, accuracy) in enumerate(ranking, 1):\n",
        "    print(f\"{i}. {model}: {accuracy:.4f}\")\n"
      ]
    }
  ],
  "metadata": {
    "colab": {
      "provenance": [],
      "toc_visible": true
    },
    "kernelspec": {
      "display_name": "Python 3",
      "name": "python3"
    },
    "language_info": {
      "name": "python"
    }
  },
  "nbformat": 4,
  "nbformat_minor": 0
}